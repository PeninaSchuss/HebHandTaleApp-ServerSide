{
 "cells": [
  {
   "cell_type": "code",
   "execution_count": 51,
   "id": "095150d7-4f39-408b-ad2b-20f9c0a0477b",
   "metadata": {
    "pycharm": {
     "name": "#%%\n"
    }
   },
   "outputs": [
    {
     "data": {
      "text/plain": [
       "'/usr/local/opt/python@3.9/bin/python3.9'"
      ]
     },
     "execution_count": 51,
     "metadata": {},
     "output_type": "execute_result"
    }
   ],
   "source": [
    "import sys\n",
    "sys.executable"
   ]
  },
  {
   "cell_type": "code",
   "execution_count": 58,
   "id": "f790b8b9-25bc-4dd9-8e6f-0805f0a11e2b",
   "metadata": {
    "pycharm": {
     "name": "#%%\n"
    }
   },
   "outputs": [],
   "source": [
    "import cv2\n",
    "import random\n",
    "from subprocess import call\n",
    "import numpy as np\n",
    "import pandas as pd\n",
    "import seaborn as sns\n",
    "from matplotlib import pyplot as plt"
   ]
  },
  {
   "cell_type": "markdown",
   "id": "794baf1b-b4ab-4287-9d55-3917d284b956",
   "metadata": {
    "pycharm": {
     "name": "#%% md\n"
    }
   },
   "source": [
    "# Part 1 - Segmentation"
   ]
  },
  {
   "cell_type": "code",
   "execution_count": 36,
   "id": "066e62ea-7703-49d5-88bb-13cf03355f3f",
   "metadata": {
    "pycharm": {
     "name": "#%%\n"
    }
   },
   "outputs": [],
   "source": [
    "image_path = 'segmentation/call.png'"
   ]
  },
  {
   "cell_type": "code",
   "execution_count": 37,
   "id": "18a9d0f9-bc10-4d12-b793-a747cc8110d3",
   "metadata": {
    "pycharm": {
     "name": "#%%\n"
    }
   },
   "outputs": [],
   "source": [
    "def process_image(image_path):\n",
    "    # 01 - Load the image\n",
    "    img = cv2.imread(image_path)\n",
    "    # 02 - Convert the image to grayscale\n",
    "    gray = cv2.cvtColor(img, cv2.COLOR_BGR2GRAY) # numpy.ndarray, (257, 522)\n",
    "    # 03 - Apply thresholding to convert the image to binary\n",
    "    _, thresh = cv2.threshold(gray, 0, 255, cv2.THRESH_BINARY_INV + cv2.THRESH_OTSU)\n",
    "    # 04 - Perform connected component analysis to separate the characters\n",
    "    connected_components_output = cv2.connectedComponentsWithStats(thresh, connectivity=8)\n",
    "    # 05 - Extract characters\n",
    "    chars = _process_characters(connected_components_output)\n",
    "    return chars"
   ]
  },
  {
   "cell_type": "code",
   "execution_count": 38,
   "id": "9510ce7d-1f59-4fe5-b82d-e3066a80792d",
   "metadata": {
    "pycharm": {
     "name": "#%%\n"
    }
   },
   "outputs": [],
   "source": [
    "def _process_characters(connected_components_output):\n",
    "    num_labels, labels, stats, centroids = connected_components_output\n",
    "    # Get the number of characters (excluding the background)\n",
    "    num_chars = num_labels - 1\n",
    "    # Define a list to store individual characters\n",
    "    chars = []\n",
    "    # Define a list to store the coordinates of each character\n",
    "    coords = []\n",
    "    # Loop through each character\n",
    "    for i in range(num_chars):\n",
    "        # Extract the character by cropping the image\n",
    "        char = labels == i + 1\n",
    "        char = char.astype(np.uint8) * 255\n",
    "\n",
    "        # Store the character and its coordinates\n",
    "        chars.append(char)\n",
    "        coords.append(stats[i+1][:2])\n",
    "    # Sort the characters based on their x-coordinates (from right to left)\n",
    "    chars = [char for _, char in sorted(zip(coords, chars), key=lambda x: x[0][0], reverse=True)]\n",
    "    assert len(chars) == num_chars\n",
    "    return chars"
   ]
  },
  {
   "cell_type": "code",
   "execution_count": 39,
   "id": "1f5bb772-ef75-40b9-a7c4-99a5ad31ec9d",
   "metadata": {
    "pycharm": {
     "name": "#%%\n"
    }
   },
   "outputs": [],
   "source": [
    "chars = process_image('segmentation/call.png')"
   ]
  },
  {
   "cell_type": "code",
   "execution_count": 72,
   "id": "473b9324-6b72-4ef6-be3d-00ed9ad95dfb",
   "metadata": {
    "pycharm": {
     "name": "#%%\n"
    }
   },
   "outputs": [
    {
     "data": {
      "text/plain": [
       "8"
      ]
     },
     "execution_count": 72,
     "metadata": {},
     "output_type": "execute_result"
    }
   ],
   "source": [
    "len(chars)"
   ]
  },
  {
   "cell_type": "code",
   "execution_count": 81,
   "id": "95c3a9cc-e962-4428-8515-93d805f311d0",
   "metadata": {
    "pycharm": {
     "name": "#%%\n"
    }
   },
   "outputs": [],
   "source": [
    "chars_hello = process_image('segmentation/hello.png')"
   ]
  },
  {
   "cell_type": "code",
   "execution_count": 82,
   "id": "7b9d3c5c-5878-4b99-9876-2a3eae7de8ba",
   "metadata": {
    "pycharm": {
     "name": "#%%\n"
    }
   },
   "outputs": [
    {
     "data": {
      "text/plain": [
       "4"
      ]
     },
     "execution_count": 82,
     "metadata": {},
     "output_type": "execute_result"
    }
   ],
   "source": [
    "len(chars_hello)"
   ]
  },
  {
   "cell_type": "code",
   "execution_count": 83,
   "id": "5cf3b2fe-affc-4874-a820-a70e69655530",
   "metadata": {
    "pycharm": {
     "name": "#%%\n"
    }
   },
   "outputs": [
    {
     "data": {
      "image/png": "[encoded data removed]",
      "text/plain": [
       "<Figure size 1080x360 with 4 Axes>"
      ]
     },
     "metadata": {
      "needs_background": "light"
     },
     "output_type": "display_data"
    }
   ],
   "source": [
    "fig, axes = plt.subplots(2, len(chars_hello)//2, sharex=True, sharey=True, figsize=(15, 5))\n",
    "\n",
    "for (i, img), ax in zip(enumerate(chars_hello), axes.flat):\n",
    "    ax.imshow(img)\n",
    "    ax.axis('off')\n",
    "    ax.set_title(i)"
   ]
  },
  {
   "cell_type": "code",
   "execution_count": 9,
   "id": "13833504-9478-4534-843b-2a1cdbcad040",
   "metadata": {
    "pycharm": {
     "name": "#%%\n"
    }
   },
   "outputs": [
    {
     "data": {
      "image/png": "[encoded data removed]",
      "text/plain": [
       "<Figure size 1080x360 with 8 Axes>"
      ]
     },
     "metadata": {
      "needs_background": "light"
     },
     "output_type": "display_data"
    }
   ],
   "source": [
    "fig, axes = plt.subplots(2, len(chars)//2, sharex=True, sharey=True, figsize=(15, 5))\n",
    "\n",
    "for (i, img), ax in zip(enumerate(chars), axes.flat):\n",
    "    ax.imshow(img)\n",
    "    ax.axis('off')\n",
    "    ax.set_title(i)"
   ]
  },
  {
   "cell_type": "code",
   "execution_count": 54,
   "id": "e161aec8-8315-4f0e-8224-f021310403a0",
   "metadata": {
    "pycharm": {
     "name": "#%%\n"
    }
   },
   "outputs": [
    {
     "data": {
      "image/png": "[encoded data removed]",
      "text/plain": [
       "<Figure size 432x288 with 1 Axes>"
      ]
     },
     "metadata": {
      "needs_background": "light"
     },
     "output_type": "display_data"
    }
   ],
   "source": [
    "plt.imshow(cv2.imread(image_path));"
   ]
  },
  {
   "cell_type": "code",
   "execution_count": 57,
   "id": "26d57d75-4c92-44b4-a2cb-51855e784474",
   "metadata": {
    "pycharm": {
     "name": "#%%\n"
    }
   },
   "outputs": [
    {
     "data": {
      "text/plain": [
       "<matplotlib.image.AxesImage at 0x1501cd760>"
      ]
     },
     "execution_count": 57,
     "metadata": {},
     "output_type": "execute_result"
    },
    {
     "data": {
      "image/png": "[encoded data removed]",
      "text/plain": [
       "<Figure size 432x288 with 1 Axes>"
      ]
     },
     "metadata": {
      "needs_background": "light"
     },
     "output_type": "display_data"
    }
   ],
   "source": [
    "plt.imshow(chars[3])"
   ]
  },
  {
   "cell_type": "markdown",
   "id": "bd180b5d-e976-41fa-b381-1c5c9be47e29",
   "metadata": {
    "pycharm": {
     "name": "#%% md\n"
    }
   },
   "source": [
    "# Part 2 - Classification"
   ]
  },
  {
   "cell_type": "code",
   "execution_count": 40,
   "id": "a5ed0fed-c62d-4eab-9f96-032d4979f7dd",
   "metadata": {
    "pycharm": {
     "name": "#%%\n"
    }
   },
   "outputs": [
    {
     "name": "stderr",
     "output_type": "stream",
     "text": [
      "2023-06-10 18:21:24.183804: I tensorflow/core/platform/cpu_feature_guard.cc:193] This TensorFlow binary is optimized with oneAPI Deep Neural Network Library (oneDNN) to use the following CPU instructions in performance-critical operations:  AVX2 FMA\n",
      "To enable them in other operations, rebuild TensorFlow with the appropriate compiler flags.\n"
     ]
    }
   ],
   "source": [
    "import os\n",
    "import matplotlib.pyplot as plt\n",
    "from tqdm import tqdm\n",
    "# from keras.preprocessing import image\n",
    "from tensorflow.keras.utils import to_categorical\n",
    "from tensorflow.keras.utils import load_img\n",
    "from tensorflow.keras.utils import img_to_array\n",
    "from keras.models import Sequential\n",
    "from keras.applications.vgg19 import VGG19\n",
    "from keras.layers import Dense, Flatten\n",
    "from sklearn.model_selection import train_test_split\n",
    "# from sklearn.preprocessing import LabelEncoder\n",
    "# from PIL import Image\n",
    "# from keras.models import load_model\n",
    "# from keras.preprocessing import image\n",
    "import numpy as np"
   ]
  },
  {
   "cell_type": "code",
   "execution_count": 41,
   "id": "357d5061-91a1-4995-9c91-884e5514084e",
   "metadata": {
    "pycharm": {
     "name": "#%%\n"
    }
   },
   "outputs": [],
   "source": [
    "# prepare a list of image files to be loaded\n",
    "def image_files(input_directory):\n",
    "    filepaths = []\n",
    "    labels = []\n",
    "\n",
    "    digit_folders = os.listdir(input_directory)\n",
    "    # print(digit_folders)\n",
    "\n",
    "    for digit in digit_folders:\n",
    "        path = os.path.join(input_directory, digit)\n",
    "        flist = os.listdir(path)\n",
    "        for f in flist:\n",
    "            fpath = os.path.join(path, f)\n",
    "            filepaths.append(fpath)\n",
    "            labels.append(digit)\n",
    "    return filepaths, labels\n",
    "\n",
    "\n",
    "def load_images(filepaths):\n",
    "    images = []\n",
    "    for i in tqdm(range(len(filepaths))):\n",
    "        img = load_img(filepaths[i], target_size=(32, 32, 3), grayscale=False)\n",
    "        img = img_to_array(img)\n",
    "        img.astype('float32')\n",
    "        img = img / 255\n",
    "        images.append(img)\n",
    "\n",
    "    images = np.array(images)\n",
    "    return images"
   ]
  },
  {
   "cell_type": "code",
   "execution_count": 42,
   "id": "0c52181a-9260-4085-8f0b-9798a1a69402",
   "metadata": {
    "pycharm": {
     "name": "#%%\n"
    }
   },
   "outputs": [],
   "source": [
    "DATA_DIR_TRAIN = r'/Users/stav/Projects/CodeSH/vgg_for_final_project/TRAIN'\n",
    "SEED           = 42\n",
    "EPOCHS         = 4\n",
    "\n",
    "\n",
    "def load_vgg_model():\n",
    "    vgg19 = VGG19(weights='imagenet',\n",
    "              include_top=False,\n",
    "              input_shape=(32, 32, 3)\n",
    "              )\n",
    "    model = Sequential()\n",
    "    model.add(vgg19)\n",
    "    model.add(Flatten())\n",
    "    model.add(Dense(28, activation='softmax'))\n",
    "    model.compile(loss='categorical_crossentropy',\n",
    "                  optimizer='sgd',\n",
    "                  metrics=['accuracy'])\n",
    "    return model\n",
    "\n",
    "\n",
    "def train_model(model):\n",
    "    # load the paths and labels in differnt variables\n",
    "    filepaths, labels = image_files(DATA_DIR_TRAIN) # 5,099 files\n",
    "    print(f'Using {len(filepaths):,} files for training.')\n",
    "    # load the 10K images\n",
    "    images = load_images(filepaths)\n",
    "    y = to_categorical(labels, num_classes=28)\n",
    "    X_train, X_test, y_train, y_test = train_test_split(images, y, random_state=SEED, test_size=0.2)\n",
    "    print('X_train.shape:', X_train.shape)\n",
    "    print('X_test.shape:',  X_test.shape)\n",
    "    history = model.fit(\n",
    "        X_train, y_train,\n",
    "        epochs=EPOCHS,\n",
    "        batch_size=128,\n",
    "        validation_data=(X_test, y_test)\n",
    "    )\n",
    "    return history"
   ]
  },
  {
   "cell_type": "code",
   "execution_count": 43,
   "id": "a6e2b446-8cf1-458d-bcf5-8be31119d0ab",
   "metadata": {
    "pycharm": {
     "name": "#%%\n"
    }
   },
   "outputs": [
    {
     "name": "stderr",
     "output_type": "stream",
     "text": [
      "2023-06-10 18:21:34.536737: I tensorflow/core/platform/cpu_feature_guard.cc:193] This TensorFlow binary is optimized with oneAPI Deep Neural Network Library (oneDNN) to use the following CPU instructions in performance-critical operations:  AVX2 FMA\n",
      "To enable them in other operations, rebuild TensorFlow with the appropriate compiler flags.\n"
     ]
    },
    {
     "name": "stdout",
     "output_type": "stream",
     "text": [
      "Model: \"sequential\"\n",
      "_________________________________________________________________\n",
      " Layer (type)                Output Shape              Param #   \n",
      "=================================================================\n",
      " vgg19 (Functional)          (None, 1, 1, 512)         20024384  \n",
      "                                                                 \n",
      " flatten (Flatten)           (None, 512)               0         \n",
      "                                                                 \n",
      " dense (Dense)               (None, 28)                14364     \n",
      "                                                                 \n",
      "=================================================================\n",
      "Total params: 20,038,748\n",
      "Trainable params: 20,038,748\n",
      "Non-trainable params: 0\n",
      "_________________________________________________________________\n"
     ]
    }
   ],
   "source": [
    "model = load_vgg_model()\n",
    "model.summary()"
   ]
  },
  {
   "cell_type": "markdown",
   "id": "d452cf11-d4e1-4102-8747-c2796f0ad96f",
   "metadata": {
    "pycharm": {
     "name": "#%% md\n"
    }
   },
   "source": [
    "## Part 2.1 - Model Training & Evaluation"
   ]
  },
  {
   "cell_type": "code",
   "execution_count": 50,
   "id": "a92d4b81-3190-44c1-b2f8-928a61b9d089",
   "metadata": {
    "pycharm": {
     "name": "#%%\n"
    }
   },
   "outputs": [
    {
     "name": "stdout",
     "output_type": "stream",
     "text": [
      "Using 5,099 files for training.\n"
     ]
    },
    {
     "name": "stderr",
     "output_type": "stream",
     "text": [
      "100%|█████████████████████████████████████████████████████████████████████████████████████████████████████████████████████| 5099/5099 [00:04<00:00, 1196.22it/s]\n"
     ]
    },
    {
     "name": "stdout",
     "output_type": "stream",
     "text": [
      "X_train.shape: (4079, 32, 32, 3)\n",
      "X_test.shape: (1020, 32, 32, 3)\n",
      "Epoch 1/4\n",
      "32/32 [==============================] - 94s 3s/step - loss: 2.7922 - accuracy: 0.2233 - val_loss: 1.9415 - val_accuracy: 0.4353\n",
      "Epoch 2/4\n",
      "32/32 [==============================] - 98s 3s/step - loss: 1.5020 - accuracy: 0.5712 - val_loss: 0.9192 - val_accuracy: 0.7451\n",
      "Epoch 3/4\n",
      "32/32 [==============================] - 96s 3s/step - loss: 0.8177 - accuracy: 0.7575 - val_loss: 0.7796 - val_accuracy: 0.7755\n",
      "Epoch 4/4\n",
      "32/32 [==============================] - 105s 3s/step - loss: 0.6251 - accuracy: 0.8166 - val_loss: 0.7646 - val_accuracy: 0.7618\n"
     ]
    }
   ],
   "source": [
    "history = train_model(model)"
   ]
  },
  {
   "cell_type": "code",
   "execution_count": 22,
   "id": "2a3b2179-5bfc-494d-817a-4b1f5bf6fdf3",
   "metadata": {
    "pycharm": {
     "name": "#%%\n"
    }
   },
   "outputs": [
    {
     "data": {
      "text/plain": [
       "<keras.engine.sequential.Sequential at 0x16eade3a0>"
      ]
     },
     "execution_count": 22,
     "metadata": {},
     "output_type": "execute_result"
    }
   ],
   "source": [
    "model"
   ]
  },
  {
   "cell_type": "code",
   "execution_count": 24,
   "id": "00275985-6db8-4ca8-869f-fdc859bf344a",
   "metadata": {
    "pycharm": {
     "name": "#%%\n"
    }
   },
   "outputs": [
    {
     "name": "stdout",
     "output_type": "stream",
     "text": [
      "Using 5,099 files for training.\n"
     ]
    },
    {
     "name": "stderr",
     "output_type": "stream",
     "text": [
      "100%|██████████████████████████████████████████████████████████████████████████████████████████████████████████████| 5099/5099 [00:04<00:00, 1247.16it/s]\n"
     ]
    }
   ],
   "source": [
    "# load the paths and labels in differnt variables\n",
    "filepaths, labels = image_files(DATA_DIR_TRAIN) # 5,099 files\n",
    "print(f'Using {len(filepaths):,} files for training.')\n",
    "# load the 10K images\n",
    "images = load_images(filepaths)\n",
    "y = to_categorical(labels, num_classes=28)\n",
    "X_train, X_test, y_train, y_test = train_test_split(images, y, random_state=SEED, test_size=0.2)"
   ]
  },
  {
   "cell_type": "markdown",
   "source": [
    "# Part 3 - Word Correction"
   ],
   "metadata": {
    "collapsed": false,
    "pycharm": {
     "name": "#%% md\n"
    }
   }
  },
  {
   "cell_type": "code",
   "execution_count": 90,
   "id": "8ff2b9c7-a1d2-473d-a1fa-9955dadf1b80",
   "metadata": {
    "pycharm": {
     "name": "#%%\n"
    }
   },
   "outputs": [],
   "source": [
    "model_output = \"שלוםם\""
   ]
  },
  {
   "cell_type": "code",
   "execution_count": 91,
   "id": "3986b3a7-7d7b-4b4f-a21d-52dbf17232d2",
   "metadata": {
    "pycharm": {
     "name": "#%%\n"
    }
   },
   "outputs": [
    {
     "data": {
      "text/plain": [
       "False"
      ]
     },
     "execution_count": 91,
     "metadata": {},
     "output_type": "execute_result"
    }
   ],
   "source": [
    "model_output in words"
   ]
  },
  {
   "cell_type": "code",
   "execution_count": 95,
   "id": "ff9e22dd-ea3c-45ac-be18-660f06159eb7",
   "metadata": {
    "pycharm": {
     "name": "#%%\n"
    }
   },
   "outputs": [],
   "source": [
    "from tqdm import tqdm"
   ]
  },
  {
   "cell_type": "code",
   "execution_count": 101,
   "id": "3af12e09-6465-4378-852a-34bbb768ec82",
   "metadata": {
    "pycharm": {
     "name": "#%%\n"
    }
   },
   "outputs": [
    {
     "name": "stderr",
     "output_type": "stream",
     "text": [
      "100%|██████████████████████████████████████████████████████████████████████████████████████████████████████████████| 469509/469509 [00:21<00:00, 22246.42it/s]\n"
     ]
    }
   ],
   "source": [
    "# min_lev_dist = 1000\n",
    "closest_words = []\n",
    "for word in tqdm(words):\n",
    "    lev_dist_word = lev_dist(model_output, word)\n",
    "    if lev_dist_word == 1:\n",
    "        # min_lev_dist = lev_dist_word\n",
    "        closest_words.append(word)"
   ]
  },
  {
   "cell_type": "code",
   "execution_count": 99,
   "id": "35409c10-8dee-4955-bc00-334514426a0e",
   "metadata": {
    "pycharm": {
     "name": "#%%\n"
    }
   },
   "outputs": [
    {
     "data": {
      "text/plain": [
       "1"
      ]
     },
     "execution_count": 99,
     "metadata": {},
     "output_type": "execute_result"
    }
   ],
   "source": [
    "min_lev_dist"
   ]
  },
  {
   "cell_type": "code",
   "execution_count": 102,
   "id": "b552c7f2-1822-4657-a68b-65f5f636a9db",
   "metadata": {
    "pycharm": {
     "name": "#%%\n"
    }
   },
   "outputs": [
    {
     "data": {
      "text/plain": [
       "['שלוום', 'שלוחם', 'שלום', 'שלומם', 'שלותם', 'שלוכם']"
      ]
     },
     "execution_count": 102,
     "metadata": {},
     "output_type": "execute_result"
    }
   ],
   "source": [
    "closest_words"
   ]
  },
  {
   "cell_type": "code",
   "execution_count": 1,
   "id": "9f26e29d-173b-4026-881e-228b4ea0d827",
   "metadata": {
    "pycharm": {
     "name": "#%%\n"
    }
   },
   "outputs": [],
   "source": [
    "WORDS_FILENAME = \"all_append_fatverb.txt\""
   ]
  },
  {
   "cell_type": "code",
   "execution_count": 23,
   "id": "6b2632fc-6ec5-4801-a24f-195c216d4ae3",
   "metadata": {
    "pycharm": {
     "name": "#%%\n"
    }
   },
   "outputs": [],
   "source": [
    "words = open(WORDS_FILENAME).read().splitlines()"
   ]
  },
  {
   "cell_type": "code",
   "execution_count": 24,
   "id": "fd0641c7-a5c8-4d48-874f-bba49211c0d9",
   "metadata": {
    "pycharm": {
     "name": "#%%\n"
    }
   },
   "outputs": [
    {
     "name": "stdout",
     "output_type": "stream",
     "text": [
      "Number of words: 469,509\n"
     ]
    }
   ],
   "source": [
    "print(f'Number of words: {len(words):,}')"
   ]
  },
  {
   "cell_type": "code",
   "execution_count": 65,
   "id": "489f96e6-9223-44a1-943d-b74efe949956",
   "metadata": {
    "pycharm": {
     "name": "#%%\n"
    }
   },
   "outputs": [
    {
     "name": "stdout",
     "output_type": "stream",
     "text": [
      "צלופחי\n",
      "נערכי\n",
      "תהגני\n",
      "מכחישתן\n",
      "עירויו\n"
     ]
    }
   ],
   "source": [
    "for _ in range(5):\n",
    "    print(random.choice(words))"
   ]
  },
  {
   "cell_type": "code",
   "execution_count": null,
   "id": "5705ca44-30b2-45ba-a9a6-718f7cb6a9fe",
   "metadata": {
    "pycharm": {
     "name": "#%%\n"
    }
   },
   "outputs": [],
   "source": [
    "אאביק"
   ]
  },
  {
   "cell_type": "code",
   "execution_count": 66,
   "id": "efd95dac-5502-4f66-9138-acfc11960315",
   "metadata": {
    "pycharm": {
     "name": "#%%\n"
    }
   },
   "outputs": [
    {
     "name": "stdout",
     "output_type": "stream",
     "text": [
      "בינה, מלאכותית, שלום, תודה\n"
     ]
    }
   ],
   "source": [
    "indices = [28872, 186472, 306417, 316132]\n",
    "print(', '.join([words[idx] for idx in indices]))"
   ]
  },
  {
   "cell_type": "code",
   "execution_count": 67,
   "id": "3d08aad3-22c9-4c88-a215-ff7430a2ad2c",
   "metadata": {
    "pycharm": {
     "name": "#%%\n"
    }
   },
   "outputs": [
    {
     "data": {
      "text/plain": [
       "(True, True)"
      ]
     },
     "execution_count": 67,
     "metadata": {},
     "output_type": "execute_result"
    }
   ],
   "source": [
    "'שלום' in words, 'שלים' in words"
   ]
  },
  {
   "cell_type": "code",
   "execution_count": null,
   "id": "e7ab14a9-8dd3-4c05-903e-236712449922",
   "metadata": {
    "pycharm": {
     "name": "#%%\n"
    }
   },
   "outputs": [],
   "source": []
  }
 ],
 "metadata": {
  "kernelspec": {
   "display_name": "Python 3 (ipykernel)",
   "language": "python",
   "name": "python3"
  },
  "language_info": {
   "codemirror_mode": {
    "name": "ipython",
    "version": 3
   },
   "file_extension": ".py",
   "mimetype": "text/x-python",
   "name": "python",
   "nbconvert_exporter": "python",
   "pygments_lexer": "ipython3",
   "version": "3.9.16"
  },
  "toc-autonumbering": true,
  "toc-showmarkdowntxt": true
 },
 "nbformat": 4,
 "nbformat_minor": 5
}