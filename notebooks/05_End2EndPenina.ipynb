{
 "cells": [
  {
   "cell_type": "code",
   "execution_count": 11,
   "id": "095150d7-4f39-408b-ad2b-20f9c0a0477b",
   "metadata": {
    "pycharm": {
     "name": "#%%\n"
    }
   },
   "outputs": [
    {
     "data": {
      "text/plain": [
       "'C:\\\\Users\\\\User\\\\AppData\\\\Local\\\\Programs\\\\Python\\\\Python310\\\\python.exe'"
      ]
     },
     "execution_count": 11,
     "metadata": {},
     "output_type": "execute_result"
    }
   ],
   "source": [
    "import sys\n",
    "sys.executable"
   ]
  },
  {
   "cell_type": "code",
   "execution_count": 12,
   "id": "f790b8b9-25bc-4dd9-8e6f-0805f0a11e2b",
   "metadata": {
    "pycharm": {
     "name": "#%%\n"
    }
   },
   "outputs": [],
   "source": [
    "import os\n",
    "import cv2\n",
    "import random\n",
    "from tqdm import tqdm\n",
    "import numpy as np\n",
    "import pandas as pd\n",
    "# import seaborn as sns\n",
    "from matplotlib import pyplot as plt"
   ]
  },
  {
   "cell_type": "markdown",
   "id": "549bd307-8d5c-4268-9996-59bf9d0d02e3",
   "metadata": {
    "pycharm": {
     "name": "#%% md\n"
    }
   },
   "source": [
    "# Steps"
   ]
  },
  {
   "cell_type": "markdown",
   "id": "bd180b5d-e976-41fa-b381-1c5c9be47e29",
   "metadata": {
    "pycharm": {
     "name": "#%% md\n"
    }
   },
   "source": [
    "## Step 2 - Classification"
   ]
  },
  {
   "cell_type": "code",
   "execution_count": 93,
   "id": "a5ed0fed-c62d-4eab-9f96-032d4979f7dd",
   "metadata": {
    "pycharm": {
     "name": "#%%\n"
    }
   },
   "outputs": [],
   "source": [
    "import matplotlib.pyplot as plt\n",
    "from tensorflow.keras.utils import to_categorical\n",
    "from tensorflow.keras.utils import load_img\n",
    "from tensorflow.keras.utils import img_to_array\n",
    "from keras.models import Sequential\n",
    "from keras.applications.vgg19 import VGG19\n",
    "from keras.layers import Dense, Flatten\n",
    "from sklearn.model_selection import train_test_split\n",
    "from keras.models import load_model"
   ]
  },
  {
   "cell_type": "code",
   "execution_count": 69,
   "id": "357d5061-91a1-4995-9c91-884e5514084e",
   "metadata": {
    "pycharm": {
     "name": "#%%\n"
    }
   },
   "outputs": [],
   "source": [
    "INPUT_IMAGE_SIZE = (32, 32, 3)\n",
    "\n",
    "\n",
    "# prepare a list of image files to be loaded\n",
    "def image_files(input_directory):\n",
    "    filepaths = []\n",
    "    labels = []\n",
    "\n",
    "    digit_folders = os.listdir(input_directory)\n",
    "    # print(digit_folders)\n",
    "\n",
    "    for digit in digit_folders:\n",
    "        path = os.path.join(input_directory, digit)\n",
    "        flist = os.listdir(path)\n",
    "        for f in flist:\n",
    "            fpath = os.path.join(path, f)\n",
    "            filepaths.append(fpath)\n",
    "            labels.append(digit)\n",
    "    return filepaths, labels\n",
    "\n",
    "\n",
    "def load_images(filepaths):\n",
    "    images = []\n",
    "    for i in tqdm(range(len(filepaths))):\n",
    "        img = load_img(filepaths[i], target_size=INPUT_IMAGE_SIZE, grayscale=False)\n",
    "        img = img_to_array(img)\n",
    "        img.astype('float32')\n",
    "        img = img / 255\n",
    "        images.append(img)\n",
    "\n",
    "    images = np.array(images)\n",
    "    return images"
   ]
  },
  {
   "cell_type": "code",
   "execution_count": 211,
   "id": "0c52181a-9260-4085-8f0b-9798a1a69402",
   "metadata": {
    "pycharm": {
     "name": "#%%\n"
    }
   },
   "outputs": [],
   "source": [
    "DATA_DIR_TRAIN = 'TRAIN'\n",
    "SEED           = 42\n",
    "EPOCHS         = 7\n",
    "\n",
    "\n",
    "def load_vgg_model():\n",
    "    vgg19 = VGG19(\n",
    "        weights='imagenet',\n",
    "        include_top=False,\n",
    "        input_shape=INPUT_IMAGE_SIZE\n",
    "    )\n",
    "    model = Sequential()\n",
    "    model.add(vgg19)\n",
    "    model.add(Flatten())\n",
    "    model.add(Dense(28, activation='softmax'))\n",
    "    model.compile(loss='categorical_crossentropy',\n",
    "                  optimizer='sgd',\n",
    "                  metrics=['accuracy'])\n",
    "    return model\n",
    "\n",
    "\n",
    "def train_model(model):\n",
    "    # load the paths and labels in differnt variables\n",
    "    filepaths, labels = image_files(DATA_DIR_TRAIN) # 5,099 files\n",
    "    print(f'Using {len(filepaths):,} files for training.')\n",
    "    # load the 10K images\n",
    "    images = load_images(filepaths)\n",
    "    y = to_categorical(labels, num_classes=28)\n",
    "    X_train, X_test, y_train, y_test = train_test_split(images, y, random_state=SEED, test_size=0.2)\n",
    "    print('X_train.shape:', X_train.shape)\n",
    "    print('X_test.shape:',  X_test.shape)\n",
    "    history = model.fit(\n",
    "        X_train, y_train,\n",
    "        epochs=EPOCHS,\n",
    "        batch_size=128,\n",
    "        validation_data=(X_test, y_test)\n",
    "    )\n",
    "    score = model.evaluate(X_test, y_test)\n",
    "    print('score: ',score)\n",
    "    # evaluate the model on your test data\n",
    "    test_loss, test_accuracy = model.evaluate(X_test, y_test)\n",
    "    print('Test loss: ', test_loss)\n",
    "    print('Test accuracy: ', test_accuracy)\n",
    "    return history"
   ]
  },
  {
   "cell_type": "code",
   "execution_count": 212,
   "id": "a6e2b446-8cf1-458d-bcf5-8be31119d0ab",
   "metadata": {
    "pycharm": {
     "name": "#%%\n"
    }
   },
   "outputs": [
    {
     "name": "stdout",
     "output_type": "stream",
     "text": [
      "Model: \"sequential_4\"\n",
      "_________________________________________________________________\n",
      " Layer (type)                Output Shape              Param #   \n",
      "=================================================================\n",
      " vgg19 (Functional)          (None, 1, 1, 512)         20024384  \n",
      "                                                                 \n",
      " flatten_4 (Flatten)         (None, 512)               0         \n",
      "                                                                 \n",
      " dense_4 (Dense)             (None, 28)                14364     \n",
      "                                                                 \n",
      "=================================================================\n",
      "Total params: 20,038,748\n",
      "Trainable params: 20,038,748\n",
      "Non-trainable params: 0\n",
      "_________________________________________________________________\n"
     ]
    }
   ],
   "source": [
    "model = load_vgg_model()\n",
    "model.summary()"
   ]
  },
  {
   "cell_type": "markdown",
   "id": "d452cf11-d4e1-4102-8747-c2796f0ad96f",
   "metadata": {
    "pycharm": {
     "name": "#%% md\n"
    }
   },
   "source": [
    "### Model Training & Evaluation"
   ]
  },
  {
   "cell_type": "code",
   "execution_count": 213,
   "id": "a92d4b81-3190-44c1-b2f8-928a61b9d089",
   "metadata": {
    "scrolled": true,
    "pycharm": {
     "name": "#%%\n"
    }
   },
   "outputs": [
    {
     "name": "stdout",
     "output_type": "stream",
     "text": [
      "Using 4,944 files for training.\n"
     ]
    },
    {
     "name": "stderr",
     "output_type": "stream",
     "text": [
      "100%|█████████████████████████████████████████████████████████████████████████████| 4944/4944 [00:07<00:00, 673.20it/s]\n"
     ]
    },
    {
     "name": "stdout",
     "output_type": "stream",
     "text": [
      "X_train.shape: (3955, 32, 32, 3)\n",
      "X_test.shape: (989, 32, 32, 3)\n",
      "Epoch 1/7\n",
      "31/31 [==============================] - 202s 6s/step - loss: 2.6808 - accuracy: 0.2523 - val_loss: 2.3918 - val_accuracy: 0.4489\n",
      "Epoch 2/7\n",
      "31/31 [==============================] - 212s 7s/step - loss: 1.3587 - accuracy: 0.6066 - val_loss: 0.7982 - val_accuracy: 0.7604\n",
      "Epoch 3/7\n",
      "31/31 [==============================] - 219s 7s/step - loss: 0.6692 - accuracy: 0.7879 - val_loss: 0.6035 - val_accuracy: 0.7917\n",
      "Epoch 4/7\n",
      "31/31 [==============================] - 216s 7s/step - loss: 0.4674 - accuracy: 0.8417 - val_loss: 0.4724 - val_accuracy: 0.8686\n",
      "Epoch 5/7\n",
      "31/31 [==============================] - 227s 7s/step - loss: 0.3837 - accuracy: 0.8761 - val_loss: 0.5359 - val_accuracy: 0.8301\n",
      "Epoch 6/7\n",
      "31/31 [==============================] - 215s 7s/step - loss: 0.3320 - accuracy: 0.8918 - val_loss: 0.4955 - val_accuracy: 0.8423\n",
      "Epoch 7/7\n",
      "31/31 [==============================] - 231s 7s/step - loss: 0.2883 - accuracy: 0.9014 - val_loss: 0.4337 - val_accuracy: 0.8605\n",
      "31/31 [==============================] - 6s 202ms/step - loss: 0.4337 - accuracy: 0.8605\n",
      "score:  [0.43373796343803406, 0.8604651093482971]\n",
      "31/31 [==============================] - 7s 231ms/step - loss: 0.4337 - accuracy: 0.8605\n",
      "Test loss:  0.43373796343803406\n",
      "Test accuracy:  0.8604651093482971\n"
     ]
    }
   ],
   "source": [
    "history = train_model(model)"
   ]
  },
  {
   "cell_type": "code",
   "execution_count": 214,
   "id": "b57d0802-cd4f-4f12-99aa-b30dc0fb85a8",
   "metadata": {
    "pycharm": {
     "name": "#%%\n"
    }
   },
   "outputs": [],
   "source": [
    "model.save('my_model.h5')"
   ]
  },
  {
   "cell_type": "code",
   "execution_count": 82,
   "id": "5a3d10e2-c420-4123-9b3e-26d08ea3f4c8",
   "metadata": {
    "pycharm": {
     "name": "#%%\n"
    }
   },
   "outputs": [],
   "source": [
    "# Define a dictionary to map the classification index to Hebrew letters\n",
    "abc = \"אבגדהוזחטיכךלמםנןסעפףצץקרשת,\""
   ]
  },
  {
   "cell_type": "markdown",
   "id": "cee5407d-4daa-4262-b499-19f153ff2935",
   "metadata": {
    "pycharm": {
     "name": "#%% md\n"
    }
   },
   "source": [
    "## Step 3 - Word Correction"
   ]
  },
  {
   "cell_type": "code",
   "execution_count": 130,
   "id": "822a9953-5830-4fe6-84b3-2a310d11be19",
   "metadata": {
    "pycharm": {
     "name": "#%%\n"
    }
   },
   "outputs": [],
   "source": [
    "from functools import lru_cache\n",
    "\n",
    "MIN_EDIT_DISTANCE_LENGTH = 1\n",
    "\n",
    "def get_word_suggestions(word):\n",
    "    closest_words = []\n",
    "    for vocab_word in tqdm(words):\n",
    "        lev_dist_word = lev_dist(word, vocab_word)\n",
    "        if lev_dist_word <= MIN_EDIT_DISTANCE_LENGTH:\n",
    "            closest_words.append(vocab_word)\n",
    "    return closest_words\n",
    "\n",
    "def lev_dist(a, b):\n",
    "    '''\n",
    "    This function will calculate the levenshtein distance between two input\n",
    "    strings a and b\n",
    "    example: a = 'stamp', b = 'stomp', lev_dist(a,b) >> 1.0\n",
    "    '''\n",
    "    @lru_cache(None)  # for memorization\n",
    "    def min_dist(s1, s2):\n",
    "\n",
    "        if s1 == len(a) or s2 == len(b):\n",
    "            return len(a) - s1 + len(b) - s2\n",
    "\n",
    "        # no change required\n",
    "        if a[s1] == b[s2]:\n",
    "            return min_dist(s1 + 1, s2 + 1)\n",
    "\n",
    "        return 1 + min(\n",
    "            min_dist(s1, s2 + 1),      # insert character\n",
    "            min_dist(s1 + 1, s2),      # delete character\n",
    "            min_dist(s1 + 1, s2 + 1),  # replace character\n",
    "        )\n",
    "\n",
    "    return min_dist(0, 0)"
   ]
  },
  {
   "cell_type": "markdown",
   "id": "e6de94d2-8798-4b39-b388-0aa6c391abc1",
   "metadata": {
    "pycharm": {
     "name": "#%% md\n"
    }
   },
   "source": [
    "# End2End"
   ]
  },
  {
   "cell_type": "code",
   "execution_count": 115,
   "id": "ddb21ce3-bacd-4225-bc8d-0b9feffd6eed",
   "metadata": {
    "pycharm": {
     "name": "#%%\n"
    }
   },
   "outputs": [
    {
     "data": {
      "text/plain": [
       "'C:\\\\Users\\\\User\\\\Desktop\\\\כללי\\\\שנה ג\\\\פרויקט גמר\\\\HandwritingProject\\\\michtav.png'"
      ]
     },
     "execution_count": 115,
     "metadata": {},
     "output_type": "execute_result"
    }
   ],
   "source": [
    "image_path = 'michtav.png'"
   ]
  },
  {
   "cell_type": "code",
   "execution_count": 84,
   "id": "a5e79d4b-c19e-4146-97ac-28ae897dc379",
   "metadata": {
    "pycharm": {
     "name": "#%%\n"
    }
   },
   "outputs": [],
   "source": [
    "def image_to_text(image_path):\n",
    "    # Step 1 - Segmentation\n",
    "    assert os.path.exists(image_path)\n",
    "    characters = process_image(image_path)\n",
    "    # Step 2 - Classification\n",
    "    return characters"
   ]
  },
  {
   "cell_type": "code",
   "execution_count": 88,
   "id": "33cb4871",
   "metadata": {
    "pycharm": {
     "name": "#%%\n"
    }
   },
   "outputs": [],
   "source": [
    "from PIL import Image"
   ]
  },
  {
   "cell_type": "code",
   "execution_count": 205,
   "id": "68425759",
   "metadata": {
    "pycharm": {
     "name": "#%%\n"
    }
   },
   "outputs": [
    {
     "name": "stdout",
     "output_type": "stream",
     "text": [
      "michtav.png\n",
      "(97, 293, 3)\n",
      "uint8\n",
      "Component=0, Original char size: (97, 293, 3), New char size: (56, 50, 3)\n",
      "Original char size: (97, 293, 3), New char size: (56, 50, 3)\n",
      "Component=1, Original char size: (97, 293, 3), New char size: (70, 69, 3)\n",
      "Original char size: (97, 293, 3), New char size: (70, 69, 3)\n",
      "Component=2, Original char size: (97, 293, 3), New char size: (50, 88, 3)\n",
      "Original char size: (97, 293, 3), New char size: (50, 88, 3)\n",
      "Component=3, Original char size: (97, 293, 3), New char size: (51, 61, 3)\n",
      "Original char size: (97, 293, 3), New char size: (51, 61, 3)\n"
     ]
    }
   ],
   "source": [
    "print(image_path)\n",
    "img = cv2.imread(image_path)\n",
    "print(img.shape)  # prints the shape of the image (rows, columns, channels)\n",
    "print(img.dtype)  # prints the data type of the image (e.g. uint8)\n",
    "# 01 - Load the image\n",
    "\n",
    "# 02 - Convert the image to grayscale\n",
    "gray = cv2.cvtColor(img, cv2.COLOR_BGR2GRAY) # numpy.ndarray, (257, 522)\n",
    "# 03 - Apply thresholding to convert the image to binary\n",
    "_, thresh = cv2.threshold(gray, 0, 255, cv2.THRESH_BINARY_INV + cv2.THRESH_OTSU)\n",
    "# 04 - Perform connected component analysis to separate the characters\n",
    "connected_components_output = cv2.connectedComponentsWithStats(thresh, connectivity=8)\n",
    "# 05 - Extract characters\n",
    "# chars = _process_characters(connected_components_output)\n",
    "num_labels, labels, stats, centroids = connected_components_output\n",
    "# Get the number of characters (excluding the background)\n",
    "num_chars = num_labels - 1\n",
    "# Define a list to store individual characters\n",
    "chars = []\n",
    "chars_cropped = []\n",
    "# Define a list to store the coordinates of each character\n",
    "coords = []\n",
    "# Loop through each character\n",
    "for i in range(num_chars):\n",
    "    # Add char\n",
    "    char = labels == i + 1\n",
    "    char = np.stack([char]*3, axis=-1).astype(np.uint8) * 255\n",
    "    char = cv2.bitwise_not(char)\n",
    "    chars.append(char)\n",
    "    # NEW - Add cropped char\n",
    "    x, y, w, h, area = stats[i + 1]\n",
    "    print(f'Component={i}, Original char size: {char.shape}, New char size: {char[y:y+h, x:x+w].shape}')\n",
    "#     char = labels == i + 1\n",
    "    char_cropped = char[y:y+h, x:x+w]\n",
    "    if char_cropped.shape[0] != char_cropped.shape[1]:\n",
    "            max_dim = max(char_cropped.shape[0], char_cropped.shape[1])\n",
    "            # Calculate the amount of padding required\n",
    "            top = (max_dim - char_cropped.shape[0]) // 2\n",
    "            bottom = max_dim - char_cropped.shape[0] - top\n",
    "            left = (max_dim - char_cropped.shape[1]) // 2\n",
    "            right = max_dim - char_cropped.shape[1] - left\n",
    "            # Add padding to the image\n",
    "            char_cropped = cv2.copyMakeBorder(char_cropped, top, bottom, left, right, cv2.BORDER_CONSTANT, value=[255, 255, 255])\n",
    "    chars_cropped.append(char_cropped)\n",
    "    \n",
    "    print(f'Original char size: {char.shape}, New char size: {char[y:y+h, x:x+w].shape}')\n",
    "\n",
    "    coords.append(stats[i+1][:2])\n",
    "    # print(coords)\n",
    "# Sort the characters based on their x-coordinates (from right to left)\n",
    "chars_cropped = [char for _, char in sorted(zip(coords, chars_cropped), key=lambda x: x[0][0], reverse=True)]"
   ]
  },
  {
   "cell_type": "code",
   "execution_count": 206,
   "id": "abbbdeed-617e-42bb-8fbf-c7a8d00bb3be",
   "metadata": {
    "pycharm": {
     "name": "#%%\n"
    }
   },
   "outputs": [
    {
     "data": {
      "image/png": "[encoded data removed]",
      "text/plain": [
       "<Figure size 640x480 with 1 Axes>"
      ]
     },
     "metadata": {},
     "output_type": "display_data"
    }
   ],
   "source": [
    "plt.imshow(chars_cropped[2]);"
   ]
  },
  {
   "cell_type": "code",
   "execution_count": 155,
   "id": "2194fd26-e6b8-42dc-9ad1-c1bcfc994063",
   "metadata": {
    "pycharm": {
     "name": "#%%\n"
    }
   },
   "outputs": [
    {
     "name": "stdout",
     "output_type": "stream",
     "text": [
      "(61,)\n",
      "(61,)\n",
      "(61,)\n",
      "(61,)\n"
     ]
    }
   ],
   "source": [
    "for i in range(num_chars):\n",
    "    print(char_cropped[i].shape);"
   ]
  },
  {
   "cell_type": "code",
   "execution_count": 216,
   "id": "0e3e96ed-4b78-4f6a-bda8-cf67fc5916cc",
   "metadata": {
    "pycharm": {
     "name": "#%%\n"
    }
   },
   "outputs": [
    {
     "name": "stderr",
     "output_type": "stream",
     "text": [
      "100%|███████████████████████████████████████████████████████████████████████| 469509/469509 [00:19<00:00, 23766.59it/s]\n"
     ]
    },
    {
     "name": "stdout",
     "output_type": "stream",
     "text": [
      "Suggested words:\n",
      "1. אכתב\n",
      "2. הכתב\n",
      "3. יכתב\n",
      "4. כתב\n",
      "5. מוכתב\n",
      "6. מכותב\n",
      "7. מכזב\n",
      "8. מככב\n",
      "9. מכת\n",
      "10. מכתב\n",
      "11. מכתבה\n",
      "12. מכתבו\n",
      "13. מכתבי\n",
      "14. מכתבך\n",
      "15. מכתבם\n",
      "16. מכתבן\n",
      "17. מכתבת\n",
      "18. מכתיב\n",
      "19. מכתם\n",
      "20. מכתר\n",
      "21. מכתש\n",
      "22. מכתת\n",
      "23. מנתב\n",
      "24. משכתב\n",
      "25. מתכתב\n",
      "26. נכתב\n",
      "27. שכתב\n",
      "28. תכתב\n",
      "29. מכתה\n",
      "30. מכתו\n",
      "31. מכתך\n",
      "32. מכתן\n"
     ]
    },
    {
     "name": "stdin",
     "output_type": "stream",
     "text": [
      "Choose a word from the list (enter the number):  10\n"
     ]
    },
    {
     "name": "stdout",
     "output_type": "stream",
     "text": [
      "You chose: מכתב\n"
     ]
    }
   ],
   "source": [
    "suggested_words = get_word_suggestions(predicted_letters_str)\n",
    "\n",
    "if len(suggested_words) == 0:\n",
    "    print(\"No matching words found.\")\n",
    "else:\n",
    "    print(\"Suggested words:\")\n",
    "    for i, word in enumerate(suggested_words):\n",
    "        print(f\"{i + 1}. {word}\")\n",
    "    choice = input(\"Choose a word from the list (enter the number): \")\n",
    "    chosen_word = suggested_words[int(choice) - 1]\n",
    "    print(f\"You chose: {chosen_word}\")"
   ]
  },
  {
   "cell_type": "code",
   "execution_count": null,
   "id": "e7ab14a9-8dd3-4c05-903e-236712449922",
   "metadata": {
    "pycharm": {
     "name": "#%%\n"
    }
   },
   "outputs": [],
   "source": []
  }
 ],
 "metadata": {
  "kernelspec": {
   "display_name": "Python 3 (ipykernel)",
   "language": "python",
   "name": "python3"
  },
  "language_info": {
   "codemirror_mode": {
    "name": "ipython",
    "version": 3
   },
   "file_extension": ".py",
   "mimetype": "text/x-python",
   "name": "python",
   "nbconvert_exporter": "python",
   "pygments_lexer": "ipython3",
   "version": "3.10.4"
  },
  "toc-autonumbering": true,
  "toc-showmarkdowntxt": true
 },
 "nbformat": 4,
 "nbformat_minor": 5
}