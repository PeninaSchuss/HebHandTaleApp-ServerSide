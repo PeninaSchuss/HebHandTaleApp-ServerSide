{
 "cells": [
  {
   "cell_type": "code",
   "execution_count": 1,
   "id": "095150d7-4f39-408b-ad2b-20f9c0a0477b",
   "metadata": {},
   "outputs": [
    {
     "data": {
      "text/plain": [
       "'/usr/local/opt/python@3.9/bin/python3.9'"
      ]
     },
     "execution_count": 1,
     "metadata": {},
     "output_type": "execute_result"
    }
   ],
   "source": [
    "import sys\n",
    "sys.executable"
   ]
  },
  {
   "cell_type": "code",
   "execution_count": 2,
   "id": "f790b8b9-25bc-4dd9-8e6f-0805f0a11e2b",
   "metadata": {},
   "outputs": [],
   "source": [
    "import os\n",
    "import cv2\n",
    "import random\n",
    "from tqdm import tqdm\n",
    "import numpy as np\n",
    "import pandas as pd\n",
    "import seaborn as sns\n",
    "from matplotlib import pyplot as plt"
   ]
  },
  {
   "cell_type": "markdown",
   "id": "549bd307-8d5c-4268-9996-59bf9d0d02e3",
   "metadata": {},
   "source": [
    "# Steps"
   ]
  },
  {
   "cell_type": "markdown",
   "id": "794baf1b-b4ab-4287-9d55-3917d284b956",
   "metadata": {},
   "source": [
    "## Step 1 - Segmentation"
   ]
  },
  {
   "cell_type": "code",
   "execution_count": 3,
   "id": "18a9d0f9-bc10-4d12-b793-a747cc8110d3",
   "metadata": {},
   "outputs": [],
   "source": [
    "def process_image(image_path):\n",
    "    \"\"\"\n",
    "    Input:   Image path (string).\n",
    "    Output:  List of characters (list of ndarray of shape 257x522).\n",
    "    \"\"\"\n",
    "    print(image_path)\n",
    "    # 01 - Load the image\n",
    "    img = cv2.imread(image_path)\n",
    "    # 02 - Convert the image to grayscale\n",
    "    gray = cv2.cvtColor(img, cv2.COLOR_BGR2GRAY) # numpy.ndarray, (257, 522)\n",
    "    # 03 - Apply thresholding to convert the image to binary\n",
    "    _, thresh = cv2.threshold(gray, 0, 255, cv2.THRESH_BINARY_INV + cv2.THRESH_OTSU)\n",
    "    # 04 - Perform connected component analysis to separate the characters\n",
    "    connected_components_output = cv2.connectedComponentsWithStats(thresh, connectivity=8)\n",
    "    # 05 - Extract characters\n",
    "    chars = _process_characters(connected_components_output)\n",
    "    return chars"
   ]
  },
  {
   "cell_type": "code",
   "execution_count": 4,
   "id": "9510ce7d-1f59-4fe5-b82d-e3066a80792d",
   "metadata": {},
   "outputs": [],
   "source": [
    "def _process_characters(connected_components_output):\n",
    "    num_labels, labels, stats, centroids = connected_components_output\n",
    "    # Get the number of characters (excluding the background)\n",
    "    num_chars = num_labels - 1\n",
    "    # Define a list to store individual characters\n",
    "    chars = []\n",
    "    # Define a list to store the coordinates of each character\n",
    "    coords = []\n",
    "    # Loop through each character\n",
    "    for i in range(num_chars):\n",
    "        # Extract the character by cropping the image\n",
    "        char = labels == i + 1\n",
    "        char = char.astype(np.uint8) * 255\n",
    "\n",
    "        # Store the character and its coordinates\n",
    "        chars.append(char)\n",
    "        coords.append(stats[i+1][:2])\n",
    "        print(coords)\n",
    "    # Sort the characters based on their x-coordinates (from right to left)\n",
    "    chars = [char for _, char in sorted(zip(coords, chars), key=lambda x: x[0][0], reverse=True)]\n",
    "    assert len(chars) == num_chars\n",
    "    return chars"
   ]
  },
  {
   "cell_type": "markdown",
   "id": "bd180b5d-e976-41fa-b381-1c5c9be47e29",
   "metadata": {},
   "source": [
    "## Step 2 - Classification"
   ]
  },
  {
   "cell_type": "code",
   "execution_count": 5,
   "id": "a5ed0fed-c62d-4eab-9f96-032d4979f7dd",
   "metadata": {},
   "outputs": [
    {
     "name": "stderr",
     "output_type": "stream",
     "text": [
      "2023-06-20 09:03:39.352302: I tensorflow/core/platform/cpu_feature_guard.cc:193] This TensorFlow binary is optimized with oneAPI Deep Neural Network Library (oneDNN) to use the following CPU instructions in performance-critical operations:  AVX2 FMA\n",
      "To enable them in other operations, rebuild TensorFlow with the appropriate compiler flags.\n"
     ]
    }
   ],
   "source": [
    "import matplotlib.pyplot as plt\n",
    "from tensorflow.keras.utils import to_categorical\n",
    "from tensorflow.keras.utils import load_img\n",
    "from tensorflow.keras.utils import img_to_array\n",
    "from keras.models import Sequential\n",
    "from keras.applications.vgg19 import VGG19\n",
    "from keras.layers import Dense, Flatten\n",
    "from sklearn.model_selection import train_test_split"
   ]
  },
  {
   "cell_type": "code",
   "execution_count": 24,
   "id": "357d5061-91a1-4995-9c91-884e5514084e",
   "metadata": {},
   "outputs": [],
   "source": [
    "INPUT_IMAGE_SIZE = (32, 32, 3)\n",
    "\n",
    "\n",
    "# prepare a list of image files to be loaded\n",
    "def image_files(input_directory):\n",
    "    filepaths = []\n",
    "    labels = []\n",
    "\n",
    "    digit_folders = os.listdir(input_directory)\n",
    "    # print(digit_folders)\n",
    "\n",
    "    for digit in digit_folders:\n",
    "        path = os.path.join(input_directory, digit)\n",
    "        flist = os.listdir(path)\n",
    "        for f in flist:\n",
    "            fpath = os.path.join(path, f)\n",
    "            filepaths.append(fpath)\n",
    "            labels.append(digit)\n",
    "    return filepaths, labels\n",
    "\n",
    "\n",
    "def load_images(filepaths):\n",
    "    images = []\n",
    "    for i in tqdm(range(len(filepaths))):\n",
    "        img = load_img(filepaths[i], target_size=INPUT_IMAGE_SIZE, grayscale=False)\n",
    "        img = img_to_array(img)\n",
    "        img.astype('float32')\n",
    "        img = img / 255\n",
    "        images.append(img)\n",
    "\n",
    "    images = np.array(images)\n",
    "    return images"
   ]
  },
  {
   "cell_type": "code",
   "execution_count": 22,
   "id": "0c52181a-9260-4085-8f0b-9798a1a69402",
   "metadata": {},
   "outputs": [],
   "source": [
    "DATA_DIR_TRAIN = r'/Users/stav/Projects/CodeSH/vgg_for_final_project/TRAIN'\n",
    "SEED           = 42\n",
    "EPOCHS         = 1\n",
    "\n",
    "\n",
    "def load_vgg_model():\n",
    "    vgg19 = VGG19(\n",
    "        weights='imagenet',\n",
    "        include_top=False,\n",
    "        input_shape=INPUT_IMAGE_SIZE\n",
    "    )\n",
    "    model = Sequential()\n",
    "    model.add(vgg19)\n",
    "    model.add(Flatten())\n",
    "    model.add(Dense(28, activation='softmax'))\n",
    "    model.compile(loss='categorical_crossentropy',\n",
    "                  optimizer='sgd',\n",
    "                  metrics=['accuracy'])\n",
    "    return model\n",
    "\n",
    "\n",
    "def train_model(model):\n",
    "    # load the paths and labels in differnt variables\n",
    "    filepaths, labels = image_files(DATA_DIR_TRAIN) # 5,099 files\n",
    "    print(f'Using {len(filepaths):,} files for training.')\n",
    "    # load the 10K images\n",
    "    images = load_images(filepaths)\n",
    "    y = to_categorical(labels, num_classes=28)\n",
    "    X_train, X_test, y_train, y_test = train_test_split(images, y, random_state=SEED, test_size=0.2)\n",
    "    print('X_train.shape:', X_train.shape)\n",
    "    print('X_test.shape:',  X_test.shape)\n",
    "    history = model.fit(\n",
    "        X_train, y_train,\n",
    "        epochs=EPOCHS,\n",
    "        batch_size=128,\n",
    "        validation_data=(X_test, y_test)\n",
    "    )\n",
    "    return history"
   ]
  },
  {
   "cell_type": "code",
   "execution_count": 10,
   "id": "a6e2b446-8cf1-458d-bcf5-8be31119d0ab",
   "metadata": {},
   "outputs": [
    {
     "name": "stderr",
     "output_type": "stream",
     "text": [
      "2023-06-20 09:04:01.349156: I tensorflow/core/platform/cpu_feature_guard.cc:193] This TensorFlow binary is optimized with oneAPI Deep Neural Network Library (oneDNN) to use the following CPU instructions in performance-critical operations:  AVX2 FMA\n",
      "To enable them in other operations, rebuild TensorFlow with the appropriate compiler flags.\n"
     ]
    },
    {
     "name": "stdout",
     "output_type": "stream",
     "text": [
      "Model: \"sequential\"\n",
      "_________________________________________________________________\n",
      " Layer (type)                Output Shape              Param #   \n",
      "=================================================================\n",
      " vgg19 (Functional)          (None, 1, 1, 512)         20024384  \n",
      "                                                                 \n",
      " flatten (Flatten)           (None, 512)               0         \n",
      "                                                                 \n",
      " dense (Dense)               (None, 28)                14364     \n",
      "                                                                 \n",
      "=================================================================\n",
      "Total params: 20,038,748\n",
      "Trainable params: 20,038,748\n",
      "Non-trainable params: 0\n",
      "_________________________________________________________________\n"
     ]
    }
   ],
   "source": [
    "model = load_vgg_model()\n",
    "model.summary()"
   ]
  },
  {
   "cell_type": "markdown",
   "id": "d452cf11-d4e1-4102-8747-c2796f0ad96f",
   "metadata": {},
   "source": [
    "### Model Training & Evaluation"
   ]
  },
  {
   "cell_type": "code",
   "execution_count": 13,
   "id": "a92d4b81-3190-44c1-b2f8-928a61b9d089",
   "metadata": {
    "scrolled": true
   },
   "outputs": [
    {
     "name": "stdout",
     "output_type": "stream",
     "text": [
      "Using 5,104 files for training.\n"
     ]
    },
    {
     "name": "stderr",
     "output_type": "stream",
     "text": [
      "100%|█████████████████████████████████████████████████████████████████████████████████████████████████████████████████████████████████████████████████| 5104/5104 [00:03<00:00, 1322.47it/s]\n"
     ]
    },
    {
     "name": "stdout",
     "output_type": "stream",
     "text": [
      "X_train.shape: (4083, 32, 32, 3)\n",
      "X_test.shape: (1021, 32, 32, 3)\n",
      "32/32 [==============================] - 121s 4s/step - loss: 2.6063 - accuracy: 0.2630 - val_loss: 1.5598 - val_accuracy: 0.5455\n"
     ]
    }
   ],
   "source": [
    "history = train_model(model)"
   ]
  },
  {
   "cell_type": "code",
   "execution_count": 14,
   "id": "2a3b2179-5bfc-494d-817a-4b1f5bf6fdf3",
   "metadata": {},
   "outputs": [
    {
     "data": {
      "text/plain": [
       "<keras.engine.sequential.Sequential at 0x14889b520>"
      ]
     },
     "execution_count": 14,
     "metadata": {},
     "output_type": "execute_result"
    }
   ],
   "source": [
    "model"
   ]
  },
  {
   "cell_type": "code",
   "execution_count": 15,
   "id": "00275985-6db8-4ca8-869f-fdc859bf344a",
   "metadata": {},
   "outputs": [
    {
     "name": "stdout",
     "output_type": "stream",
     "text": [
      "Using 5,104 files for training.\n"
     ]
    },
    {
     "name": "stderr",
     "output_type": "stream",
     "text": [
      "100%|█████████████████████████████████████████████████████████████████████████████████████████████████████████████████████████████████████████████████| 5104/5104 [00:03<00:00, 1514.58it/s]\n"
     ]
    }
   ],
   "source": [
    "# load the paths and labels in differnt variables\n",
    "filepaths, labels = image_files(DATA_DIR_TRAIN) # 5,099 files\n",
    "print(f'Using {len(filepaths):,} files for training.')\n",
    "# load the 10K images\n",
    "images = load_images(filepaths)\n",
    "y = to_categorical(labels, num_classes=28)\n",
    "X_train, X_test, y_train, y_test = train_test_split(images, y, random_state=SEED, test_size=0.2)"
   ]
  },
  {
   "cell_type": "code",
   "execution_count": 17,
   "id": "a57c27ee-7e81-46f9-b214-9d1b3a671513",
   "metadata": {},
   "outputs": [
    {
     "data": {
      "text/plain": [
       "((4083, 32, 32, 3), (1021, 32, 32, 3))"
      ]
     },
     "execution_count": 17,
     "metadata": {},
     "output_type": "execute_result"
    }
   ],
   "source": [
    "X_train.shape, X_test.shape"
   ]
  },
  {
   "cell_type": "code",
   "execution_count": 20,
   "id": "e84c9fe0",
   "metadata": {},
   "outputs": [
    {
     "data": {
      "text/plain": [
       "(2, 32, 32, 3)"
      ]
     },
     "execution_count": 20,
     "metadata": {},
     "output_type": "execute_result"
    }
   ],
   "source": [
    "X_test[:2].shape"
   ]
  },
  {
   "cell_type": "code",
   "execution_count": 32,
   "id": "b3c4f23b",
   "metadata": {},
   "outputs": [
    {
     "data": {
      "text/plain": [
       "((1, 32, 32, 3), numpy.ndarray)"
      ]
     },
     "execution_count": 32,
     "metadata": {},
     "output_type": "execute_result"
    }
   ],
   "source": [
    "X_test[:1].shape, type(X_test[:1])"
   ]
  },
  {
   "cell_type": "code",
   "execution_count": 31,
   "id": "7b19945d",
   "metadata": {},
   "outputs": [
    {
     "data": {
      "text/plain": [
       "([(32, 32, 3)], list)"
      ]
     },
     "execution_count": 31,
     "metadata": {},
     "output_type": "execute_result"
    }
   ],
   "source": [
    "[X_test[2].shape], type([X_test[2].shape])"
   ]
  },
  {
   "cell_type": "code",
   "execution_count": 36,
   "id": "84297d04",
   "metadata": {},
   "outputs": [
    {
     "data": {
      "text/plain": [
       "(1, 32, 32, 3)"
      ]
     },
     "execution_count": 36,
     "metadata": {},
     "output_type": "execute_result"
    }
   ],
   "source": [
    "np.array([X_test[2]]).shape"
   ]
  },
  {
   "cell_type": "code",
   "execution_count": 33,
   "id": "92359bcb-f107-4a5a-8649-eeb7ccb50177",
   "metadata": {},
   "outputs": [
    {
     "ename": "ValueError",
     "evalue": "in user code:\n\n    File \"/usr/local/lib/python3.9/site-packages/keras/engine/training.py\", line 2041, in predict_function  *\n        return step_function(self, iterator)\n    File \"/usr/local/lib/python3.9/site-packages/keras/engine/training.py\", line 2027, in step_function  **\n        outputs = model.distribute_strategy.run(run_step, args=(data,))\n    File \"/usr/local/lib/python3.9/site-packages/keras/engine/training.py\", line 2015, in run_step  **\n        outputs = model.predict_step(data)\n    File \"/usr/local/lib/python3.9/site-packages/keras/engine/training.py\", line 1983, in predict_step\n        return self(x, training=False)\n    File \"/usr/local/lib/python3.9/site-packages/keras/utils/traceback_utils.py\", line 70, in error_handler\n        raise e.with_traceback(filtered_tb) from None\n    File \"/usr/local/lib/python3.9/site-packages/keras/engine/input_spec.py\", line 295, in assert_input_compatibility\n        raise ValueError(\n\n    ValueError: Input 0 of layer \"sequential\" is incompatible with the layer: expected shape=(None, 32, 32, 3), found shape=(32, 32, 3)\n",
     "output_type": "error",
     "traceback": [
      "\u001b[0;31m---------------------------------------------------------------------------\u001b[0m",
      "\u001b[0;31mValueError\u001b[0m                                Traceback (most recent call last)",
      "Input \u001b[0;32mIn [33]\u001b[0m, in \u001b[0;36m<cell line: 1>\u001b[0;34m()\u001b[0m\n\u001b[0;32m----> 1\u001b[0m \u001b[43mmodel\u001b[49m\u001b[38;5;241;43m.\u001b[39;49m\u001b[43mpredict\u001b[49m\u001b[43m(\u001b[49m\u001b[43m[\u001b[49m\u001b[43mX_test\u001b[49m\u001b[43m[\u001b[49m\u001b[38;5;241;43m2\u001b[39;49m\u001b[43m]\u001b[49m\u001b[43m]\u001b[49m\u001b[43m)\u001b[49m\n",
      "File \u001b[0;32m/usr/local/lib/python3.9/site-packages/keras/utils/traceback_utils.py:70\u001b[0m, in \u001b[0;36mfilter_traceback.<locals>.error_handler\u001b[0;34m(*args, **kwargs)\u001b[0m\n\u001b[1;32m     67\u001b[0m     filtered_tb \u001b[38;5;241m=\u001b[39m _process_traceback_frames(e\u001b[38;5;241m.\u001b[39m__traceback__)\n\u001b[1;32m     68\u001b[0m     \u001b[38;5;66;03m# To get the full stack trace, call:\u001b[39;00m\n\u001b[1;32m     69\u001b[0m     \u001b[38;5;66;03m# `tf.debugging.disable_traceback_filtering()`\u001b[39;00m\n\u001b[0;32m---> 70\u001b[0m     \u001b[38;5;28;01mraise\u001b[39;00m e\u001b[38;5;241m.\u001b[39mwith_traceback(filtered_tb) \u001b[38;5;28;01mfrom\u001b[39;00m \u001b[38;5;28mNone\u001b[39m\n\u001b[1;32m     71\u001b[0m \u001b[38;5;28;01mfinally\u001b[39;00m:\n\u001b[1;32m     72\u001b[0m     \u001b[38;5;28;01mdel\u001b[39;00m filtered_tb\n",
      "File \u001b[0;32m/var/folders/kk/h0skgxw973lb9482lsylzkfw0000gn/T/__autograph_generated_filehpltufyu.py:15\u001b[0m, in \u001b[0;36mouter_factory.<locals>.inner_factory.<locals>.tf__predict_function\u001b[0;34m(iterator)\u001b[0m\n\u001b[1;32m     13\u001b[0m \u001b[38;5;28;01mtry\u001b[39;00m:\n\u001b[1;32m     14\u001b[0m     do_return \u001b[38;5;241m=\u001b[39m \u001b[38;5;28;01mTrue\u001b[39;00m\n\u001b[0;32m---> 15\u001b[0m     retval_ \u001b[38;5;241m=\u001b[39m ag__\u001b[38;5;241m.\u001b[39mconverted_call(ag__\u001b[38;5;241m.\u001b[39mld(step_function), (ag__\u001b[38;5;241m.\u001b[39mld(\u001b[38;5;28mself\u001b[39m), ag__\u001b[38;5;241m.\u001b[39mld(iterator)), \u001b[38;5;28;01mNone\u001b[39;00m, fscope)\n\u001b[1;32m     16\u001b[0m \u001b[38;5;28;01mexcept\u001b[39;00m:\n\u001b[1;32m     17\u001b[0m     do_return \u001b[38;5;241m=\u001b[39m \u001b[38;5;28;01mFalse\u001b[39;00m\n",
      "\u001b[0;31mValueError\u001b[0m: in user code:\n\n    File \"/usr/local/lib/python3.9/site-packages/keras/engine/training.py\", line 2041, in predict_function  *\n        return step_function(self, iterator)\n    File \"/usr/local/lib/python3.9/site-packages/keras/engine/training.py\", line 2027, in step_function  **\n        outputs = model.distribute_strategy.run(run_step, args=(data,))\n    File \"/usr/local/lib/python3.9/site-packages/keras/engine/training.py\", line 2015, in run_step  **\n        outputs = model.predict_step(data)\n    File \"/usr/local/lib/python3.9/site-packages/keras/engine/training.py\", line 1983, in predict_step\n        return self(x, training=False)\n    File \"/usr/local/lib/python3.9/site-packages/keras/utils/traceback_utils.py\", line 70, in error_handler\n        raise e.with_traceback(filtered_tb) from None\n    File \"/usr/local/lib/python3.9/site-packages/keras/engine/input_spec.py\", line 295, in assert_input_compatibility\n        raise ValueError(\n\n    ValueError: Input 0 of layer \"sequential\" is incompatible with the layer: expected shape=(None, 32, 32, 3), found shape=(32, 32, 3)\n"
     ]
    }
   ],
   "source": [
    "model.predict([X_test[2]])"
   ]
  },
  {
   "cell_type": "markdown",
   "id": "cee5407d-4daa-4262-b499-19f153ff2935",
   "metadata": {},
   "source": [
    "## Step 3 - Word Correction"
   ]
  },
  {
   "cell_type": "code",
   "execution_count": null,
   "id": "822a9953-5830-4fe6-84b3-2a310d11be19",
   "metadata": {},
   "outputs": [],
   "source": [
    "from functools import lru_cache\n",
    "\n",
    "MIN_EDIT_DISTANCE_LENGTH = 1\n",
    "\n",
    "def get_word_suggestions(word):\n",
    "    closest_words = []\n",
    "    for vocab_word in tqdm(words):\n",
    "        lev_dist_word = lev_dist(word, vocab_word)\n",
    "        if lev_dist_word == MIN_EDIT_DISTANCE_LENGTH:\n",
    "            closest_words.append(word)\n",
    "    return closest_words\n",
    "\n",
    "def lev_dist(a, b):\n",
    "    '''\n",
    "    This function will calculate the levenshtein distance between two input\n",
    "    strings a and b\n",
    "    example: a = 'stamp', b = 'stomp', lev_dist(a,b) >> 1.0\n",
    "    '''\n",
    "    @lru_cache(None)  # for memorization\n",
    "    def min_dist(s1, s2):\n",
    "\n",
    "        if s1 == len(a) or s2 == len(b):\n",
    "            return len(a) - s1 + len(b) - s2\n",
    "\n",
    "        # no change required\n",
    "        if a[s1] == b[s2]:\n",
    "            return min_dist(s1 + 1, s2 + 1)\n",
    "\n",
    "        return 1 + min(\n",
    "            min_dist(s1, s2 + 1),      # insert character\n",
    "            min_dist(s1 + 1, s2),      # delete character\n",
    "            min_dist(s1 + 1, s2 + 1),  # replace character\n",
    "        )\n",
    "\n",
    "    return min_dist(0, 0)"
   ]
  },
  {
   "cell_type": "markdown",
   "id": "e6de94d2-8798-4b39-b388-0aa6c391abc1",
   "metadata": {},
   "source": [
    "# End2End"
   ]
  },
  {
   "cell_type": "code",
   "execution_count": 38,
   "id": "ddb21ce3-bacd-4225-bc8d-0b9feffd6eed",
   "metadata": {},
   "outputs": [
    {
     "data": {
      "text/plain": [
       "'/Users/stav/Projects/CodeSH/data/call.png'"
      ]
     },
     "execution_count": 38,
     "metadata": {},
     "output_type": "execute_result"
    }
   ],
   "source": [
    "IMAGES_DIR      = '/Users/stav/Projects/CodeSH/data'\n",
    "image_name_call = 'call.png'\n",
    "image_path_call = os.path.join(IMAGES_DIR, image_name_call)\n",
    "image_path_call"
   ]
  },
  {
   "cell_type": "code",
   "execution_count": 32,
   "id": "a5e79d4b-c19e-4146-97ac-28ae897dc379",
   "metadata": {},
   "outputs": [],
   "source": [
    "def image_to_text(image_path):\n",
    "    # Step 1 - Segmentation\n",
    "    assert os.path.exists(image_path)\n",
    "    characters = process_image(image_path)\n",
    "    # Step 2 - Classification\n",
    "    return characters"
   ]
  },
  {
   "cell_type": "code",
   "execution_count": 42,
   "id": "1bab7ba8",
   "metadata": {},
   "outputs": [],
   "source": [
    "def process_image(image_path):\n",
    "    \"\"\"\n",
    "    Input:   Image path (string).\n",
    "    Output:  List of characters (list of ndarray of shape 257x522).\n",
    "    \"\"\"\n",
    "    print(image_path)\n",
    "    # 01 - Load the image\n",
    "    img = cv2.imread(image_path)\n",
    "    # 02 - Convert the image to grayscale\n",
    "    gray = cv2.cvtColor(img, cv2.COLOR_BGR2GRAY) # numpy.ndarray, (257, 522)\n",
    "    # 03 - Apply thresholding to convert the image to binary\n",
    "    _, thresh = cv2.threshold(gray, 0, 255, cv2.THRESH_BINARY_INV + cv2.THRESH_OTSU)\n",
    "    # 04 - Perform connected component analysis to separate the characters\n",
    "    connected_components_output = cv2.connectedComponentsWithStats(thresh, connectivity=8)\n",
    "    # 05 - Extract characters\n",
    "    chars = _process_characters(connected_components_output)\n",
    "    return chars"
   ]
  },
  {
   "cell_type": "code",
   "execution_count": 39,
   "id": "e3785b42-247a-4be3-a49f-32905eb97c5d",
   "metadata": {},
   "outputs": [],
   "source": [
    "def _process_characters(connected_components_output):\n",
    "    num_labels, labels, stats, centroids = connected_components_output\n",
    "    # Get the number of characters (excluding the background)\n",
    "    num_chars = num_labels - 1\n",
    "    # Define a list to store individual characters\n",
    "    chars = []\n",
    "    # Define a list to store the coordinates of each character\n",
    "    coords = []\n",
    "    # Loop through each character\n",
    "    for i in range(num_chars):\n",
    "        # Extract the character by cropping the image\n",
    "        char = labels == i + 1\n",
    "        char = char.astype(np.uint8) * 255\n",
    "\n",
    "        # Store the character and its coordinates\n",
    "        chars.append(char)\n",
    "        coords.append(stats[i+1][:2])\n",
    "        # print(coords)\n",
    "    # Sort the characters based on their x-coordinates (from right to left)\n",
    "    chars = [char for _, char in sorted(zip(coords, chars), key=lambda x: x[0][0], reverse=True)]\n",
    "    assert len(chars) == num_chars\n",
    "    return chars"
   ]
  },
  {
   "cell_type": "code",
   "execution_count": 92,
   "id": "0c18d224",
   "metadata": {},
   "outputs": [],
   "source": [
    "image_path = image_path_call"
   ]
  },
  {
   "cell_type": "code",
   "execution_count": 126,
   "id": "33cb4871",
   "metadata": {},
   "outputs": [],
   "source": [
    "from PIL import Image"
   ]
  },
  {
   "cell_type": "code",
   "execution_count": 109,
   "id": "68425759",
   "metadata": {},
   "outputs": [
    {
     "name": "stdout",
     "output_type": "stream",
     "text": [
      "/Users/stav/Projects/CodeSH/data/call.png\n",
      "Component=0, Original char size: (257, 522), New char size: (103, 2)\n",
      "Component=1, Original char size: (257, 522), New char size: (37, 4)\n",
      "Component=2, Original char size: (257, 522), New char size: (55, 58)\n",
      "Component=3, Original char size: (257, 522), New char size: (65, 56)\n",
      "Component=4, Original char size: (257, 522), New char size: (56, 46)\n",
      "Component=5, Original char size: (257, 522), New char size: (39, 45)\n",
      "Component=6, Original char size: (257, 522), New char size: (109, 10)\n",
      "Component=7, Original char size: (257, 522), New char size: (48, 2)\n"
     ]
    }
   ],
   "source": [
    "print(image_path)\n",
    "# 01 - Load the image\n",
    "img = cv2.imread(image_path)\n",
    "# 02 - Convert the image to grayscale\n",
    "gray = cv2.cvtColor(img, cv2.COLOR_BGR2GRAY) # numpy.ndarray, (257, 522)\n",
    "# 03 - Apply thresholding to convert the image to binary\n",
    "_, thresh = cv2.threshold(gray, 0, 255, cv2.THRESH_BINARY_INV + cv2.THRESH_OTSU)\n",
    "# 04 - Perform connected component analysis to separate the characters\n",
    "connected_components_output = cv2.connectedComponentsWithStats(thresh, connectivity=8)\n",
    "# 05 - Extract characters\n",
    "# chars = _process_characters(connected_components_output)\n",
    "num_labels, labels, stats, centroids = connected_components_output\n",
    "# Get the number of characters (excluding the background)\n",
    "num_chars = num_labels - 1\n",
    "# Define a list to store individual characters\n",
    "chars = []\n",
    "chars_cropped = []\n",
    "# Define a list to store the coordinates of each character\n",
    "coords = []\n",
    "# Loop through each character\n",
    "for i in range(num_chars):\n",
    "    # Add char\n",
    "    char = labels == i + 1\n",
    "    char = char.astype(np.uint8) * 255\n",
    "    chars.append(char)\n",
    "    # NEW - Add cropped char\n",
    "    x, y, w, h, area = stats[i + 1]\n",
    "    print(f'Component={i}, Original char size: {char.shape}, New char size: {char[y:y+h, x:x+w].shape}')\n",
    "#     char = labels == i + 1\n",
    "    char_cropped = img[y:y+h, x:x+w]\n",
    "    chars_cropped.append(char_cropped)\n",
    "    \n",
    "    coords.append(stats[i+1][:2])\n",
    "    # print(coords)\n",
    "# Sort the characters based on their x-coordinates (from right to left)\n",
    "#chars = [char for _, char in sorted(zip(coords, chars), key=lambda x: x[0][0], reverse=True)]"
   ]
  },
  {
   "cell_type": "code",
   "execution_count": 134,
   "id": "aae156a5",
   "metadata": {},
   "outputs": [],
   "source": [
    "i = 4"
   ]
  },
  {
   "cell_type": "code",
   "execution_count": 135,
   "id": "381b301c",
   "metadata": {},
   "outputs": [
    {
     "data": {
      "image/png": "[encoded data removed]",
      "text/plain": [
       "<PIL.Image.Image image mode=RGB size=46x56>"
      ]
     },
     "execution_count": 135,
     "metadata": {},
     "output_type": "execute_result"
    }
   ],
   "source": [
    "Image.fromarray(chars_cropped[i])"
   ]
  },
  {
   "cell_type": "code",
   "execution_count": 136,
   "id": "563918b9",
   "metadata": {},
   "outputs": [
    {
     "data": {
      "image/png": "[encoded data removed]",
      "text/plain": [
       "<PIL.Image.Image image mode=RGB size=32x32>"
      ]
     },
     "execution_count": 136,
     "metadata": {},
     "output_type": "execute_result"
    }
   ],
   "source": [
    "Image.fromarray(chars_cropped[i]).resize((32,32))"
   ]
  },
  {
   "cell_type": "code",
   "execution_count": 140,
   "id": "620684f9",
   "metadata": {},
   "outputs": [
    {
     "data": {
      "text/plain": [
       "(32, 32, 3)"
      ]
     },
     "execution_count": 140,
     "metadata": {},
     "output_type": "execute_result"
    }
   ],
   "source": [
    "np.array(Image.fromarray(chars_cropped[i]).resize((32,32))).shape"
   ]
  },
  {
   "cell_type": "code",
   "execution_count": 142,
   "id": "ea59cbd7",
   "metadata": {},
   "outputs": [
    {
     "data": {
      "text/plain": [
       "(1, 32, 32, 3)"
      ]
     },
     "execution_count": 142,
     "metadata": {},
     "output_type": "execute_result"
    }
   ],
   "source": [
    "np.array([np.array(Image.fromarray(chars_cropped[i]).resize((32,32)))]).shape"
   ]
  },
  {
   "cell_type": "code",
   "execution_count": 143,
   "id": "11a64bb7",
   "metadata": {},
   "outputs": [
    {
     "name": "stdout",
     "output_type": "stream",
     "text": [
      "1/1 [==============================] - 0s 279ms/step\n"
     ]
    },
    {
     "data": {
      "text/plain": [
       "array([[0., 0., 0., 0., 0., 0., 0., 0., 0., 0., 0., 0., 0., 0., 0., 0.,\n",
       "        0., 0., 0., 0., 0., 0., 0., 0., 1., 0., 0., 0.]], dtype=float32)"
      ]
     },
     "execution_count": 143,
     "metadata": {},
     "output_type": "execute_result"
    }
   ],
   "source": [
    "model.predict(np.array([np.array(Image.fromarray(chars_cropped[i]).resize((32,32)))]))"
   ]
  },
  {
   "cell_type": "code",
   "execution_count": 117,
   "id": "491ff708",
   "metadata": {},
   "outputs": [
    {
     "data": {
      "text/plain": [
       "<matplotlib.image.AxesImage at 0x14d1ee400>"
      ]
     },
     "execution_count": 117,
     "metadata": {},
     "output_type": "execute_result"
    },
    {
     "data": {
      "image/png": "[encoded data removed]",
      "text/plain": [
       "<Figure size 432x288 with 1 Axes>"
      ]
     },
     "metadata": {
      "needs_background": "light"
     },
     "output_type": "display_data"
    }
   ],
   "source": [
    "# for i in range(8):\n",
    "i = 2\n",
    "plt.imshow(chars_cropped[i])"
   ]
  },
  {
   "cell_type": "code",
   "execution_count": 121,
   "id": "2b964316",
   "metadata": {},
   "outputs": [
    {
     "data": {
      "text/plain": [
       "<matplotlib.image.AxesImage at 0x14e292280>"
      ]
     },
     "execution_count": 121,
     "metadata": {},
     "output_type": "execute_result"
    },
    {
     "data": {
      "image/png": "[encoded data removed]",
      "text/plain": [
       "<Figure size 432x288 with 1 Axes>"
      ]
     },
     "metadata": {
      "needs_background": "light"
     },
     "output_type": "display_data"
    }
   ],
   "source": [
    "i = 6\n",
    "plt.imshow(chars_cropped[i])"
   ]
  },
  {
   "cell_type": "code",
   "execution_count": 114,
   "id": "b5cd2b7b",
   "metadata": {},
   "outputs": [
    {
     "data": {
      "image/png": "[encoded data removed]",
      "text/plain": [
       "<Figure size 1080x360 with 8 Axes>"
      ]
     },
     "metadata": {
      "needs_background": "light"
     },
     "output_type": "display_data"
    }
   ],
   "source": [
    "fig, axes = plt.subplots(2, len(chars_cropped)//2, sharex=True, sharey=True, figsize=(15, 5))\n",
    "\n",
    "for (i, char), ax in zip(enumerate(chars_cropped), axes.flat):\n",
    "    ax.imshow(char)\n",
    "    ax.axis('off')\n",
    "    ax.set_title(i)"
   ]
  },
  {
   "cell_type": "code",
   "execution_count": 106,
   "id": "3c8e87b1",
   "metadata": {},
   "outputs": [
    {
     "data": {
      "image/png": "[encoded data removed]",
      "text/plain": [
       "<Figure size 1080x360 with 8 Axes>"
      ]
     },
     "metadata": {
      "needs_background": "light"
     },
     "output_type": "display_data"
    }
   ],
   "source": [
    "fig, axes = plt.subplots(2, len(chars)//2, sharex=True, sharey=True, figsize=(15, 5))\n",
    "\n",
    "for (i, img), ax in zip(enumerate(chars), axes.flat):\n",
    "    ax.imshow(img)\n",
    "    ax.axis('off')\n",
    "    ax.set_title(i)"
   ]
  },
  {
   "cell_type": "code",
   "execution_count": 84,
   "id": "6954103b",
   "metadata": {},
   "outputs": [
    {
     "data": {
      "text/plain": [
       "<matplotlib.image.AxesImage at 0x14ceb6f10>"
      ]
     },
     "execution_count": 84,
     "metadata": {},
     "output_type": "execute_result"
    },
    {
     "data": {
      "image/png": "[encoded data removed]",
      "text/plain": [
       "<Figure size 432x288 with 1 Axes>"
      ]
     },
     "metadata": {
      "needs_background": "light"
     },
     "output_type": "display_data"
    }
   ],
   "source": [
    "plt.imshow(chars[4])"
   ]
  },
  {
   "cell_type": "code",
   "execution_count": 77,
   "id": "de1ba053",
   "metadata": {},
   "outputs": [
    {
     "data": {
      "text/plain": [
       "<matplotlib.image.AxesImage at 0x14cc42f10>"
      ]
     },
     "execution_count": 77,
     "metadata": {},
     "output_type": "execute_result"
    },
    {
     "data": {
      "image/png": "[encoded data removed]",
      "text/plain": [
       "<Figure size 432x288 with 1 Axes>"
      ]
     },
     "metadata": {
      "needs_background": "light"
     },
     "output_type": "display_data"
    }
   ],
   "source": [
    "plt.imshow(chars[4])"
   ]
  },
  {
   "cell_type": "code",
   "execution_count": 40,
   "id": "5a2c37be",
   "metadata": {},
   "outputs": [
    {
     "data": {
      "text/plain": [
       "'/Users/stav/Projects/CodeSH/data/call.png'"
      ]
     },
     "execution_count": 40,
     "metadata": {},
     "output_type": "execute_result"
    }
   ],
   "source": [
    "image_path_call"
   ]
  },
  {
   "cell_type": "code",
   "execution_count": 43,
   "id": "b552c7f2-1822-4657-a68b-65f5f636a9db",
   "metadata": {},
   "outputs": [
    {
     "name": "stdout",
     "output_type": "stream",
     "text": [
      "/Users/stav/Projects/CodeSH/data/call.png\n"
     ]
    }
   ],
   "source": [
    "characters = process_image(image_path_call)"
   ]
  },
  {
   "cell_type": "code",
   "execution_count": 46,
   "id": "ba54c083-0fd4-48ef-84cd-441646d46fcf",
   "metadata": {},
   "outputs": [
    {
     "data": {
      "text/plain": [
       "(list, 8)"
      ]
     },
     "execution_count": 46,
     "metadata": {},
     "output_type": "execute_result"
    }
   ],
   "source": [
    "type(characters), len(characters)"
   ]
  },
  {
   "cell_type": "code",
   "execution_count": 45,
   "id": "44cbb0d7-eb7e-4fe8-ab55-ad46335829c4",
   "metadata": {},
   "outputs": [
    {
     "data": {
      "text/plain": [
       "(numpy.ndarray, (257, 522))"
      ]
     },
     "execution_count": 45,
     "metadata": {},
     "output_type": "execute_result"
    }
   ],
   "source": [
    "type(characters[0]), characters[0].shape"
   ]
  },
  {
   "cell_type": "code",
   "execution_count": 53,
   "id": "79e46338",
   "metadata": {},
   "outputs": [
    {
     "name": "stdout",
     "output_type": "stream",
     "text": [
      "<class 'numpy.ndarray'> (257, 522)\n",
      "<class 'numpy.ndarray'> (257, 522)\n",
      "<class 'numpy.ndarray'> (257, 522)\n",
      "<class 'numpy.ndarray'> (257, 522)\n",
      "<class 'numpy.ndarray'> (257, 522)\n",
      "<class 'numpy.ndarray'> (257, 522)\n",
      "<class 'numpy.ndarray'> (257, 522)\n",
      "<class 'numpy.ndarray'> (257, 522)\n"
     ]
    }
   ],
   "source": [
    "for i in range(8):\n",
    "    print(type(characters[i]), characters[i].shape)"
   ]
  },
  {
   "cell_type": "code",
   "execution_count": 47,
   "id": "ad8b6c40-558f-4dcc-9b1f-80488148d733",
   "metadata": {},
   "outputs": [
    {
     "data": {
      "image/png": "[encoded data removed]",
      "text/plain": [
       "<Figure size 432x288 with 1 Axes>"
      ]
     },
     "metadata": {
      "needs_background": "light"
     },
     "output_type": "display_data"
    }
   ],
   "source": [
    "plt.imshow(cv2.imread(image_path_call));"
   ]
  },
  {
   "cell_type": "code",
   "execution_count": 55,
   "id": "3359ad78-ed3a-4cb6-9c25-dafde28b2710",
   "metadata": {},
   "outputs": [
    {
     "data": {
      "image/png": "[encoded data removed]",
      "text/plain": [
       "<Figure size 432x288 with 1 Axes>"
      ]
     },
     "metadata": {
      "needs_background": "light"
     },
     "output_type": "display_data"
    }
   ],
   "source": [
    "plt.imshow(characters[3]);"
   ]
  },
  {
   "cell_type": "code",
   "execution_count": 49,
   "id": "2601dad0-fba1-4a44-8e0e-019101d6875d",
   "metadata": {},
   "outputs": [
    {
     "data": {
      "text/plain": [
       "<matplotlib.image.AxesImage at 0x148a93a30>"
      ]
     },
     "execution_count": 49,
     "metadata": {},
     "output_type": "execute_result"
    },
    {
     "data": {
      "image/png": "[encoded data removed]",
      "text/plain": [
       "<Figure size 432x288 with 1 Axes>"
      ]
     },
     "metadata": {
      "needs_background": "light"
     },
     "output_type": "display_data"
    }
   ],
   "source": [
    "plt.imshow(characters[-1])"
   ]
  },
  {
   "cell_type": "code",
   "execution_count": null,
   "id": "00ea9978-0192-4223-84fb-2f1cbb650a81",
   "metadata": {},
   "outputs": [],
   "source": [
    "characters[0].shape"
   ]
  },
  {
   "cell_type": "code",
   "execution_count": 38,
   "id": "bc88befe-938a-42ac-84f0-efb9a4728c5b",
   "metadata": {},
   "outputs": [],
   "source": [
    "image_path = \"/Users/stav/Projects/CodeSH/data/call.png\""
   ]
  },
  {
   "cell_type": "code",
   "execution_count": 56,
   "id": "215d4b13-45a4-4d1e-b2af-9ed891dac3a9",
   "metadata": {},
   "outputs": [
    {
     "name": "stdout",
     "output_type": "stream",
     "text": [
      "(x=0, y=0, w=522, h=257, area=133295)\n",
      "char.shape: (257, 522) coor: [194  71]\n",
      "(x=194, y=71, w=2, h=103, area=104)\n",
      "char.shape: (257, 522) coor: [258  87]\n",
      "(x=258, y=87, w=4, h=37, area=40)\n",
      "char.shape: (257, 522) coor: [338  89]\n",
      "(x=338, y=89, w=58, h=55, area=147)\n",
      "char.shape: (257, 522) coor: [112  92]\n",
      "(x=112, y=92, w=56, h=65, area=133)\n",
      "char.shape: (257, 522) coor: [279  94]\n",
      "(x=279, y=94, w=46, h=56, area=126)\n",
      "char.shape: (257, 522) coor: [200 103]\n",
      "(x=200, y=103, w=45, h=39, area=136)\n",
      "char.shape: (257, 522) coor: [364 107]\n",
      "(x=364, y=107, w=10, h=109, area=123)\n",
      "char.shape: (257, 522) coor: [130 118]\n"
     ]
    }
   ],
   "source": [
    "# 01 - Load the image\n",
    "img = cv2.imread(image_path)\n",
    "# 02 - Convert the image to grayscale\n",
    "gray = cv2.cvtColor(img, cv2.COLOR_BGR2GRAY) # numpy.ndarray, (257, 522)\n",
    "# 03 - Apply thresholding to convert the image to binary\n",
    "_, thresh = cv2.threshold(gray, 0, 255, cv2.THRESH_BINARY_INV + cv2.THRESH_OTSU)\n",
    "# 04 - Perform connected component analysis to separate the characters\n",
    "connected_components_output = cv2.connectedComponentsWithStats(thresh, connectivity=8)\n",
    "# 05 - Extract characters\n",
    "# chars = _process_characters(connected_components_output)\n",
    "num_labels, labels, stats, centroids = connected_components_output\n",
    "# Get the number of characters (excluding the background)\n",
    "num_chars = num_labels - 1\n",
    "# Define a list to store individual characters\n",
    "chars = []\n",
    "chars_cropped = []\n",
    "# Define a list to store the coordinates of each character\n",
    "coords = []\n",
    "# Loop through each character\n",
    "for i in range(num_chars):\n",
    "    # Extract the character by cropping the image\n",
    "    char = labels == i + 1\n",
    "    char = char.astype(np.uint8) * 255\n",
    "    # print(labels.shape)\n",
    "    # Store the character and its coordinates\n",
    "    # print('char.shape:', char.shape)\n",
    "    (x, y, w, h, area) = stats[i]\n",
    "    print(f'(x={x}, y={y}, w={w}, h={h}, area={area})')\n",
    "    # Extract the character by cropping the image\n",
    "    char_cropped = img[y:y+h, x:x+w]\n",
    "    chars_cropped.append(char_cropped)\n",
    "    chars.append(char)\n",
    "    coords.append(stats[i+1][:2])\n",
    "    # print('coor:', stats[i+1][:2])\n",
    "    print('char.shape:', char.shape, 'coor:', coords[-1])\n",
    "# Sort the characters based on their x-coordinates (from right to left)\n",
    "# chars = [char for _, char in sorted(zip(coords, chars), key=lambda x: x[0][0], reverse=True)]"
   ]
  },
  {
   "cell_type": "code",
   "execution_count": 54,
   "id": "a396ad50-9741-4faf-b618-4709f026d5e1",
   "metadata": {},
   "outputs": [
    {
     "data": {
      "image/png": "[encoded data removed]",
      "text/plain": [
       "<Figure size 432x288 with 1 Axes>"
      ]
     },
     "metadata": {
      "needs_background": "light"
     },
     "output_type": "display_data"
    }
   ],
   "source": [
    "plt.imshow(cv2.imread(image_path_call));"
   ]
  },
  {
   "cell_type": "code",
   "execution_count": 64,
   "id": "8e0e79c6-8d6d-4770-8dd2-292ffddda7e7",
   "metadata": {},
   "outputs": [
    {
     "data": {
      "text/plain": [
       "<matplotlib.image.AxesImage at 0x151dc0af0>"
      ]
     },
     "execution_count": 64,
     "metadata": {},
     "output_type": "execute_result"
    },
    {
     "data": {
      "image/png": "[encoded data removed]",
      "text/plain": [
       "<Figure size 432x288 with 1 Axes>"
      ]
     },
     "metadata": {
      "needs_background": "light"
     },
     "output_type": "display_data"
    }
   ],
   "source": [
    "plt.imshow(chars_cropped[4])"
   ]
  },
  {
   "cell_type": "code",
   "execution_count": 42,
   "id": "117daf65-23e7-4924-8578-4ab4d85fab6f",
   "metadata": {},
   "outputs": [
    {
     "data": {
      "text/plain": [
       "<matplotlib.image.AxesImage at 0x151ae51c0>"
      ]
     },
     "execution_count": 42,
     "metadata": {},
     "output_type": "execute_result"
    },
    {
     "data": {
      "image/png": "[encoded data removed]",
      "text/plain": [
       "<Figure size 432x288 with 1 Axes>"
      ]
     },
     "metadata": {
      "needs_background": "light"
     },
     "output_type": "display_data"
    }
   ],
   "source": [
    "plt.imshow(chars[0])"
   ]
  },
  {
   "cell_type": "code",
   "execution_count": null,
   "id": "61253de5-bda6-41bd-b6ba-85ff90f947f6",
   "metadata": {},
   "outputs": [],
   "source": [
    "# img = img_to_array(characters[0]).astype('float32') / 255"
   ]
  },
  {
   "cell_type": "code",
   "execution_count": null,
   "id": "5e03f325-c36a-4eca-82e9-e459431fe2c1",
   "metadata": {},
   "outputs": [],
   "source": [
    "model.predict(images[0])"
   ]
  },
  {
   "cell_type": "code",
   "execution_count": 1,
   "id": "9f26e29d-173b-4026-881e-228b4ea0d827",
   "metadata": {},
   "outputs": [],
   "source": [
    "WORDS_FILENAME = \"all_append_fatverb.txt\""
   ]
  },
  {
   "cell_type": "code",
   "execution_count": 23,
   "id": "6b2632fc-6ec5-4801-a24f-195c216d4ae3",
   "metadata": {},
   "outputs": [],
   "source": [
    "words = open(WORDS_FILENAME).read().splitlines()"
   ]
  },
  {
   "cell_type": "code",
   "execution_count": 24,
   "id": "fd0641c7-a5c8-4d48-874f-bba49211c0d9",
   "metadata": {},
   "outputs": [
    {
     "name": "stdout",
     "output_type": "stream",
     "text": [
      "Number of words: 469,509\n"
     ]
    }
   ],
   "source": [
    "print(f'Number of words: {len(words):,}')"
   ]
  },
  {
   "cell_type": "code",
   "execution_count": 65,
   "id": "489f96e6-9223-44a1-943d-b74efe949956",
   "metadata": {},
   "outputs": [
    {
     "name": "stdout",
     "output_type": "stream",
     "text": [
      "צלופחי\n",
      "נערכי\n",
      "תהגני\n",
      "מכחישתן\n",
      "עירויו\n"
     ]
    }
   ],
   "source": [
    "for _ in range(5):\n",
    "    print(random.choice(words))"
   ]
  },
  {
   "cell_type": "code",
   "execution_count": null,
   "id": "5705ca44-30b2-45ba-a9a6-718f7cb6a9fe",
   "metadata": {},
   "outputs": [],
   "source": [
    "אאביק"
   ]
  },
  {
   "cell_type": "code",
   "execution_count": 66,
   "id": "efd95dac-5502-4f66-9138-acfc11960315",
   "metadata": {},
   "outputs": [
    {
     "name": "stdout",
     "output_type": "stream",
     "text": [
      "בינה, מלאכותית, שלום, תודה\n"
     ]
    }
   ],
   "source": [
    "indices = [28872, 186472, 306417, 316132]\n",
    "print(', '.join([words[idx] for idx in indices]))"
   ]
  },
  {
   "cell_type": "code",
   "execution_count": 67,
   "id": "3d08aad3-22c9-4c88-a215-ff7430a2ad2c",
   "metadata": {},
   "outputs": [
    {
     "data": {
      "text/plain": [
       "(True, True)"
      ]
     },
     "execution_count": 67,
     "metadata": {},
     "output_type": "execute_result"
    }
   ],
   "source": [
    "'שלום' in words, 'שלים' in words"
   ]
  },
  {
   "cell_type": "code",
   "execution_count": null,
   "id": "e7ab14a9-8dd3-4c05-903e-236712449922",
   "metadata": {},
   "outputs": [],
   "source": []
  }
 ],
 "metadata": {
  "kernelspec": {
   "display_name": "Python 3 (ipykernel)",
   "language": "python",
   "name": "python3"
  },
  "language_info": {
   "codemirror_mode": {
    "name": "ipython",
    "version": 3
   },
   "file_extension": ".py",
   "mimetype": "text/x-python",
   "name": "python",
   "nbconvert_exporter": "python",
   "pygments_lexer": "ipython3",
   "version": "3.9.16"
  },
  "toc-autonumbering": true,
  "toc-showmarkdowntxt": true
 },
 "nbformat": 4,
 "nbformat_minor": 5
}
