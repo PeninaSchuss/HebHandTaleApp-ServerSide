{
 "cells": [
  {
   "cell_type": "code",
   "execution_count": 1,
   "id": "095150d7-4f39-408b-ad2b-20f9c0a0477b",
   "metadata": {
    "pycharm": {
     "name": "#%%\n"
    }
   },
   "outputs": [
    {
     "data": {
      "text/plain": [
       "'/usr/local/opt/python@3.9/bin/python3.9'"
      ]
     },
     "execution_count": 1,
     "metadata": {},
     "output_type": "execute_result"
    }
   ],
   "source": [
    "import sys\n",
    "sys.executable"
   ]
  },
  {
   "cell_type": "code",
   "execution_count": 54,
   "id": "f790b8b9-25bc-4dd9-8e6f-0805f0a11e2b",
   "metadata": {
    "pycharm": {
     "name": "#%%\n"
    }
   },
   "outputs": [],
   "source": [
    "import cv2\n",
    "import numpy as np\n",
    "import pandas as pd\n",
    "import seaborn as sns\n",
    "from matplotlib import pyplot as plt"
   ]
  },
  {
   "cell_type": "code",
   "execution_count": 26,
   "id": "5216813e-96e0-437a-87d1-b259a00b0334",
   "metadata": {
    "pycharm": {
     "name": "#%%\n"
    }
   },
   "outputs": [],
   "source": [
    "from sklearn.metrics import confusion_matrix,classification_report"
   ]
  },
  {
   "cell_type": "code",
   "execution_count": 19,
   "id": "0c52181a-9260-4085-8f0b-9798a1a69402",
   "metadata": {
    "pycharm": {
     "name": "#%%\n"
    }
   },
   "outputs": [],
   "source": [
    "DATA_DIR_TRAIN = r'/Users/stav/Projects/CodeSH/vgg_for_final_project/TRAIN'\n",
    "SEED           = 42\n",
    "EPOCHS         = 4\n",
    "\n",
    "\n",
    "def load_vgg_model():\n",
    "    vgg19 = VGG19(weights='imagenet',\n",
    "              include_top=False,\n",
    "              input_shape=(32, 32, 3)\n",
    "              )\n",
    "    model = Sequential()\n",
    "    model.add(vgg19)\n",
    "    model.add(Flatten())\n",
    "    model.add(Dense(28, activation='softmax'))\n",
    "    model.compile(loss='categorical_crossentropy',\n",
    "                  optimizer='sgd',\n",
    "                  metrics=['accuracy'])\n",
    "    return model\n",
    "\n",
    "\n",
    "def train_model(model):\n",
    "    # load the paths and labels in differnt variables\n",
    "    filepaths, labels = image_files(DATA_DIR_TRAIN) # 5,099 files\n",
    "    print(f'Using {len(filepaths):,} files for training.')\n",
    "    # load the 10K images\n",
    "    images = load_images(filepaths)\n",
    "    y = to_categorical(labels, num_classes=28)\n",
    "    X_train, X_test, y_train, y_test = train_test_split(images, y, random_state=SEED, test_size=0.2)\n",
    "    print('X_train.shape:', X_train.shape)\n",
    "    print('X_test.shape:',  X_test.shape)\n",
    "    history = model.fit(\n",
    "        X_train, y_train,\n",
    "        epochs=EPOCHS,\n",
    "        batch_size=128,\n",
    "        validation_data=(X_test, y_test)\n",
    "    )\n",
    "    return history"
   ]
  },
  {
   "cell_type": "code",
   "execution_count": 18,
   "id": "a6e2b446-8cf1-458d-bcf5-8be31119d0ab",
   "metadata": {
    "pycharm": {
     "name": "#%%\n"
    }
   },
   "outputs": [
    {
     "name": "stderr",
     "output_type": "stream",
     "text": [
      "2023-06-06 08:37:29.351748: I tensorflow/core/platform/cpu_feature_guard.cc:193] This TensorFlow binary is optimized with oneAPI Deep Neural Network Library (oneDNN) to use the following CPU instructions in performance-critical operations:  AVX2 FMA\n",
      "To enable them in other operations, rebuild TensorFlow with the appropriate compiler flags.\n"
     ]
    },
    {
     "name": "stdout",
     "output_type": "stream",
     "text": [
      "Model: \"sequential\"\n",
      "_________________________________________________________________\n",
      " Layer (type)                Output Shape              Param #   \n",
      "=================================================================\n",
      " vgg19 (Functional)          (None, 1, 1, 512)         20024384  \n",
      "                                                                 \n",
      " flatten (Flatten)           (None, 512)               0         \n",
      "                                                                 \n",
      " dense (Dense)               (None, 28)                14364     \n",
      "                                                                 \n",
      "=================================================================\n",
      "Total params: 20,038,748\n",
      "Trainable params: 20,038,748\n",
      "Non-trainable params: 0\n",
      "_________________________________________________________________\n"
     ]
    }
   ],
   "source": [
    "model = load_vgg_model()\n",
    "model.summary()"
   ]
  },
  {
   "cell_type": "markdown",
   "id": "d452cf11-d4e1-4102-8747-c2796f0ad96f",
   "metadata": {
    "pycharm": {
     "name": "#%% md\n"
    }
   },
   "source": [
    "# Part 3 - Model Training & Evaluation"
   ]
  },
  {
   "cell_type": "code",
   "execution_count": 21,
   "id": "a92d4b81-3190-44c1-b2f8-928a61b9d089",
   "metadata": {
    "pycharm": {
     "name": "#%%\n"
    }
   },
   "outputs": [
    {
     "name": "stdout",
     "output_type": "stream",
     "text": [
      "Using 5,099 files for training.\n"
     ]
    },
    {
     "name": "stderr",
     "output_type": "stream",
     "text": [
      "100%|██████████████████████████████████████████████████████████████████████████████████████████████████████████████| 5099/5099 [00:03<00:00, 1417.86it/s]\n"
     ]
    },
    {
     "name": "stdout",
     "output_type": "stream",
     "text": [
      "X_train.shape: (4079, 32, 32, 3)\n",
      "X_test.shape: (1020, 32, 32, 3)\n",
      "Epoch 1/4\n",
      "32/32 [==============================] - 101s 3s/step - loss: 2.9750 - accuracy: 0.1768 - val_loss: 2.9016 - val_accuracy: 0.1980\n",
      "Epoch 2/4\n",
      "32/32 [==============================] - 86s 3s/step - loss: 2.0402 - accuracy: 0.4428 - val_loss: 1.2936 - val_accuracy: 0.6255\n",
      "Epoch 3/4\n",
      "32/32 [==============================] - 85s 3s/step - loss: 0.9986 - accuracy: 0.7043 - val_loss: 1.2829 - val_accuracy: 0.6471\n",
      "Epoch 4/4\n",
      "32/32 [==============================] - 84s 3s/step - loss: 0.7428 - accuracy: 0.7811 - val_loss: 0.7760 - val_accuracy: 0.7912\n"
     ]
    }
   ],
   "source": [
    "history = train_model(model)"
   ]
  },
  {
   "cell_type": "code",
   "execution_count": 22,
   "id": "2a3b2179-5bfc-494d-817a-4b1f5bf6fdf3",
   "metadata": {
    "pycharm": {
     "name": "#%%\n"
    }
   },
   "outputs": [
    {
     "data": {
      "text/plain": [
       "<keras.engine.sequential.Sequential at 0x16eade3a0>"
      ]
     },
     "execution_count": 22,
     "metadata": {},
     "output_type": "execute_result"
    }
   ],
   "source": [
    "model"
   ]
  },
  {
   "cell_type": "code",
   "execution_count": 24,
   "id": "00275985-6db8-4ca8-869f-fdc859bf344a",
   "metadata": {
    "pycharm": {
     "name": "#%%\n"
    }
   },
   "outputs": [
    {
     "name": "stdout",
     "output_type": "stream",
     "text": [
      "Using 5,099 files for training.\n"
     ]
    },
    {
     "name": "stderr",
     "output_type": "stream",
     "text": [
      "100%|██████████████████████████████████████████████████████████████████████████████████████████████████████████████| 5099/5099 [00:04<00:00, 1247.16it/s]\n"
     ]
    }
   ],
   "source": [
    "# load the paths and labels in differnt variables\n",
    "filepaths, labels = image_files(DATA_DIR_TRAIN) # 5,099 files\n",
    "print(f'Using {len(filepaths):,} files for training.')\n",
    "# load the 10K images\n",
    "images = load_images(filepaths)\n",
    "y = to_categorical(labels, num_classes=28)\n",
    "X_train, X_test, y_train, y_test = train_test_split(images, y, random_state=SEED, test_size=0.2)"
   ]
  },
  {
   "cell_type": "code",
   "execution_count": 25,
   "id": "49891c44-eb60-4265-972a-3ae34c35bc4e",
   "metadata": {
    "pycharm": {
     "name": "#%%\n"
    }
   },
   "outputs": [
    {
     "name": "stdout",
     "output_type": "stream",
     "text": [
      "32/32 [==============================] - 2s 63ms/step\n"
     ]
    }
   ],
   "source": [
    "y_pred = model.predict(X_test)"
   ]
  },
  {
   "cell_type": "code",
   "execution_count": 83,
   "id": "918d9a67-0912-488c-8f87-d9d8c33fbb1b",
   "metadata": {
    "pycharm": {
     "name": "#%%\n"
    }
   },
   "outputs": [
    {
     "name": "stdout",
     "output_type": "stream",
     "text": [
      "0 stav1\n",
      "1 stav2\n"
     ]
    }
   ],
   "source": [
    "for i, item in enumerate(['stav1', 'stav2']):\n",
    "    print(i, item)"
   ]
  },
  {
   "cell_type": "code",
   "execution_count": 81,
   "id": "26a57db7-e504-4d56-b7df-f5b228f5c375",
   "metadata": {
    "pycharm": {
     "name": "#%%\n"
    }
   },
   "outputs": [
    {
     "data": {
      "text/plain": [
       "[(0, 'א'),\n",
       " (1, 'ב'),\n",
       " (2, 'ג'),\n",
       " (3, 'ד'),\n",
       " (4, 'ה'),\n",
       " (5, 'ו'),\n",
       " (6, 'ז'),\n",
       " (7, 'ח'),\n",
       " (8, 'ט'),\n",
       " (9, 'י'),\n",
       " (10, 'כ'),\n",
       " (11, 'ך'),\n",
       " (12, 'ל'),\n",
       " (13, 'מ'),\n",
       " (14, 'ם'),\n",
       " (15, 'נ'),\n",
       " (16, 'ן'),\n",
       " (17, 'ס'),\n",
       " (18, 'ע'),\n",
       " (19, 'פ'),\n",
       " (20, 'ף'),\n",
       " (21, 'צ'),\n",
       " (22, 'ץ'),\n",
       " (23, 'ק'),\n",
       " (24, 'ר'),\n",
       " (25, 'ש'),\n",
       " (26, 'ת'),\n",
       " (27, ',')]"
      ]
     },
     "execution_count": 81,
     "metadata": {},
     "output_type": "execute_result"
    }
   ],
   "source": [
    "list(enumerate(abc))"
   ]
  },
  {
   "cell_type": "code",
   "execution_count": 78,
   "id": "81f32267-d2cd-45bc-848f-4235f438542c",
   "metadata": {
    "pycharm": {
     "name": "#%%\n"
    }
   },
   "outputs": [],
   "source": [
    "cm_df = pd.DataFrame(conf_matrix,\n",
    "                     # index = ['setosa','versicolor','virginica'], \n",
    "                     index = list(abc),\n",
    "                     columns = list(abc))"
   ]
  },
  {
   "cell_type": "code",
   "execution_count": 79,
   "id": "87401e2a-aeb9-4f07-b38b-9e61a9d0f783",
   "metadata": {
    "pycharm": {
     "name": "#%%\n"
    }
   },
   "outputs": [
    {
     "data": {
      "image/png": "[encoded data removed]",
      "text/plain": [
       "<Figure size 864x864 with 2 Axes>"
      ]
     },
     "metadata": {
      "needs_background": "light"
     },
     "output_type": "display_data"
    }
   ],
   "source": [
    "plt.figure(figsize=(12,12))\n",
    "sns.heatmap(cm_df, annot=True)\n",
    "# plt.title('SVM Linear Kernel \\nAccuracy:{0:.3f}'.format(accuracy_score(y_test, y_pred)))\n",
    "plt.ylabel('True label')\n",
    "plt.xlabel('Predicted label')\n",
    "plt.show()"
   ]
  },
  {
   "cell_type": "code",
   "execution_count": 82,
   "id": "556df679-50cc-481d-a008-8e79bc58a0d7",
   "metadata": {
    "pycharm": {
     "name": "#%%\n"
    }
   },
   "outputs": [
    {
     "name": "stdout",
     "output_type": "stream",
     "text": [
      "1/1 [==============================] - 0s 51ms/step\n",
      "Error for index: 0\n",
      "1/1 [==============================] - 0s 42ms/step\n",
      "1/1 [==============================] - 0s 37ms/step\n",
      "Error for index: 2\n",
      "1/1 [==============================] - 0s 37ms/step\n",
      "1/1 [==============================] - 0s 42ms/step\n",
      "Error for index: 4\n",
      "1/1 [==============================] - 0s 34ms/step\n",
      "Error for index: 5\n",
      "1/1 [==============================] - 0s 38ms/step\n",
      "1/1 [==============================] - 0s 34ms/step\n",
      "1/1 [==============================] - 0s 38ms/step\n",
      "1/1 [==============================] - 0s 42ms/step\n",
      "1/1 [==============================] - 0s 40ms/step\n",
      "Error for index: 10\n",
      "1/1 [==============================] - 0s 38ms/step\n",
      "Error for index: 11\n",
      "1/1 [==============================] - 0s 35ms/step\n",
      "1/1 [==============================] - 0s 35ms/step\n",
      "1/1 [==============================] - 0s 35ms/step\n",
      "1/1 [==============================] - 0s 33ms/step\n",
      "1/1 [==============================] - 0s 35ms/step\n",
      "1/1 [==============================] - 0s 35ms/step\n",
      "1/1 [==============================] - 0s 35ms/step\n",
      "1/1 [==============================] - 0s 34ms/step\n",
      "1/1 [==============================] - 0s 30ms/step\n",
      "1/1 [==============================] - 0s 33ms/step\n",
      "Error for index: 21\n",
      "1/1 [==============================] - 0s 32ms/step\n",
      "1/1 [==============================] - 0s 37ms/step\n",
      "Error for index: 23\n",
      "1/1 [==============================] - 0s 34ms/step\n",
      "1/1 [==============================] - 0s 34ms/step\n",
      "Error for index: 25\n",
      "1/1 [==============================] - 0s 37ms/step\n",
      "1/1 [==============================] - 0s 34ms/step\n",
      "1/1 [==============================] - 0s 34ms/step\n",
      "1/1 [==============================] - 0s 34ms/step\n",
      "1/1 [==============================] - 0s 34ms/step\n",
      "1/1 [==============================] - 0s 35ms/step\n",
      "Error for index: 31\n",
      "1/1 [==============================] - 0s 39ms/step\n",
      "1/1 [==============================] - 0s 35ms/step\n",
      "1/1 [==============================] - 0s 37ms/step\n",
      "1/1 [==============================] - 0s 33ms/step\n",
      "Error for index: 35\n",
      "1/1 [==============================] - 0s 32ms/step\n",
      "1/1 [==============================] - 0s 34ms/step\n",
      "1/1 [==============================] - 0s 40ms/step\n",
      "Error for index: 38\n",
      "1/1 [==============================] - 0s 35ms/step\n",
      "Error for index: 39\n",
      "1/1 [==============================] - 0s 36ms/step\n",
      "1/1 [==============================] - 0s 33ms/step\n",
      "1/1 [==============================] - 0s 33ms/step\n",
      "Error for index: 42\n",
      "1/1 [==============================] - 0s 32ms/step\n",
      "Error for index: 43\n",
      "1/1 [==============================] - 0s 36ms/step\n",
      "Error for index: 44\n",
      "1/1 [==============================] - 0s 32ms/step\n",
      "1/1 [==============================] - 0s 50ms/step\n",
      "Error for index: 46\n",
      "1/1 [==============================] - 0s 36ms/step\n",
      "1/1 [==============================] - 0s 36ms/step\n",
      "1/1 [==============================] - 0s 34ms/step\n",
      "1/1 [==============================] - 0s 30ms/step\n",
      "1/1 [==============================] - 0s 32ms/step\n",
      "1/1 [==============================] - 0s 36ms/step\n",
      "1/1 [==============================] - 0s 33ms/step\n",
      "1/1 [==============================] - 0s 31ms/step\n",
      "1/1 [==============================] - 0s 33ms/step\n",
      "1/1 [==============================] - 0s 31ms/step\n",
      "1/1 [==============================] - 0s 35ms/step\n",
      "1/1 [==============================] - 0s 32ms/step\n",
      "1/1 [==============================] - 0s 29ms/step\n",
      "1/1 [==============================] - 0s 35ms/step\n",
      "1/1 [==============================] - 0s 32ms/step\n",
      "1/1 [==============================] - 0s 35ms/step\n",
      "Error for index: 62\n",
      "1/1 [==============================] - 0s 36ms/step\n",
      "1/1 [==============================] - 0s 33ms/step\n",
      "Error for index: 64\n",
      "1/1 [==============================] - 0s 33ms/step\n",
      "Error for index: 65\n",
      "1/1 [==============================] - 0s 42ms/step\n",
      "Error for index: 66\n",
      "1/1 [==============================] - 0s 35ms/step\n",
      "1/1 [==============================] - 0s 34ms/step\n",
      "1/1 [==============================] - 0s 33ms/step\n",
      "1/1 [==============================] - 0s 32ms/step\n",
      "1/1 [==============================] - 0s 31ms/step\n",
      "1/1 [==============================] - 0s 32ms/step\n",
      "1/1 [==============================] - 0s 34ms/step\n",
      "1/1 [==============================] - 0s 33ms/step\n",
      "1/1 [==============================] - 0s 34ms/step\n",
      "1/1 [==============================] - 0s 33ms/step\n",
      "1/1 [==============================] - 0s 34ms/step\n",
      "1/1 [==============================] - 0s 29ms/step\n",
      "1/1 [==============================] - 0s 33ms/step\n",
      "Error for index: 79\n",
      "1/1 [==============================] - 0s 32ms/step\n",
      "1/1 [==============================] - 0s 33ms/step\n",
      "1/1 [==============================] - 0s 33ms/step\n",
      "1/1 [==============================] - 0s 32ms/step\n",
      "Error for index: 83\n",
      "1/1 [==============================] - 0s 31ms/step\n",
      "Error for index: 84\n",
      "1/1 [==============================] - 0s 32ms/step\n",
      "1/1 [==============================] - 0s 38ms/step\n",
      "1/1 [==============================] - 0s 35ms/step\n",
      "1/1 [==============================] - 0s 37ms/step\n",
      "1/1 [==============================] - 0s 28ms/step\n",
      "Error for index: 89\n",
      "1/1 [==============================] - 0s 34ms/step\n",
      "Error for index: 90\n",
      "1/1 [==============================] - 0s 35ms/step\n",
      "Error for index: 91\n",
      "1/1 [==============================] - 0s 44ms/step\n",
      "1/1 [==============================] - 0s 43ms/step\n",
      "Error for index: 93\n",
      "1/1 [==============================] - 0s 36ms/step\n",
      "1/1 [==============================] - 0s 42ms/step\n",
      "Error for index: 95\n",
      "1/1 [==============================] - 0s 34ms/step\n",
      "1/1 [==============================] - 0s 47ms/step\n",
      "Error for index: 97\n",
      "1/1 [==============================] - 0s 36ms/step\n",
      "1/1 [==============================] - 0s 33ms/step\n"
     ]
    }
   ],
   "source": [
    "for img_idx in range(100):\n",
    "    prob = model.predict(X_test[img_idx].reshape(1, 32, 32, 3))\n",
    "    y_pred   = np.argmax(prob)            # softmax output\n",
    "    y_actual = np.argmax(y_test[img_idx]) # one-hot encoding\n",
    "    if y_pred != y_actual:\n",
    "        print('Error for index:', img_idx)"
   ]
  },
  {
   "cell_type": "code",
   "execution_count": 83,
   "id": "e5ef2bf9-d740-489a-8a26-2d083f35849f",
   "metadata": {
    "pycharm": {
     "name": "#%%\n"
    }
   },
   "outputs": [
    {
     "name": "stdout",
     "output_type": "stream",
     "text": [
      "1/1 [==============================] - 0s 39ms/step\n"
     ]
    }
   ],
   "source": [
    "img_idx = 79\n",
    "prob = model.predict(X_test[img_idx].reshape(1, 32, 32, 3))\n",
    "y_pred   = np.argmax(prob)            # softmax output\n",
    "y_actual = np.argmax(y_test[img_idx]) # one-hot encoding"
   ]
  },
  {
   "cell_type": "code",
   "execution_count": 85,
   "id": "5b85f30a-b617-497e-aa62-3cae5647b995",
   "metadata": {
    "pycharm": {
     "name": "#%%\n"
    }
   },
   "outputs": [
    {
     "data": {
      "text/plain": [
       "(26, 14)"
      ]
     },
     "execution_count": 85,
     "metadata": {},
     "output_type": "execute_result"
    }
   ],
   "source": [
    "y_pred, y_actual"
   ]
  },
  {
   "cell_type": "code",
   "execution_count": 109,
   "id": "b7048aba-7da8-4791-ab3a-6181c10e7781",
   "metadata": {
    "pycharm": {
     "name": "#%%\n"
    }
   },
   "outputs": [
    {
     "data": {
      "text/plain": [
       "array([[5.2701775e-04, 1.7752871e-04, 7.4542462e-05, 1.2391385e-04,\n",
       "        4.4470813e-05, 5.2801561e-06, 1.2626484e-04, 1.3309697e-04,\n",
       "        3.8806818e-05, 3.7252287e-06, 3.0750962e-05, 2.5051946e-04,\n",
       "        3.1568683e-03, 4.0978044e-05, 1.7307270e-02, 3.9947601e-03,\n",
       "        1.6768216e-04, 1.7573951e-05, 6.6044577e-04, 1.6924777e-04,\n",
       "        1.8496968e-02, 1.0224337e-03, 1.4309661e-01, 2.4420233e-04,\n",
       "        5.5946282e-05, 1.0446213e-04, 8.0987108e-01, 5.7500467e-05]],\n",
       "      dtype=float32)"
      ]
     },
     "execution_count": 109,
     "metadata": {},
     "output_type": "execute_result"
    }
   ],
   "source": [
    "prob"
   ]
  },
  {
   "cell_type": "code",
   "execution_count": 108,
   "id": "187412b9-32ce-4c0a-aa03-cf0eeb2d90a2",
   "metadata": {
    "pycharm": {
     "name": "#%%\n"
    }
   },
   "outputs": [
    {
     "name": "stdout",
     "output_type": "stream",
     "text": [
      "00.  0.000527\n",
      "01.  0.000178\n",
      "02.  0.000075\n",
      "03.  0.000124\n",
      "04.  0.000044\n",
      "05.  0.000005\n",
      "06.  0.000126\n",
      "07.  0.000133\n",
      "08.  0.000039\n",
      "09.  0.000004\n",
      "10.  0.000031\n",
      "11.  0.000251\n",
      "12.  0.003157\n",
      "13.  0.000041\n",
      "14.  0.017307\n",
      "15.  0.003995\n",
      "16.  0.000168\n",
      "17.  0.000018\n",
      "18.  0.000660\n",
      "19.  0.000169\n",
      "20.  0.018497\n",
      "21.  0.001022\n",
      "22.  0.143097\n",
      "23.  0.000244\n",
      "24.  0.000056\n",
      "25.  0.000104\n",
      "26.  0.809871\n",
      "27.  0.000058\n"
     ]
    }
   ],
   "source": [
    "for i, p in enumerate(prob[0]):\n",
    "    print(f'{i:02}.  {p:.6f}')"
   ]
  },
  {
   "cell_type": "code",
   "execution_count": 92,
   "id": "53a538e6-a4ee-46d8-b0e1-9dbd009b0e49",
   "metadata": {
    "pycharm": {
     "name": "#%%\n"
    }
   },
   "outputs": [],
   "source": [
    "import seaborn as sns"
   ]
  },
  {
   "cell_type": "code",
   "execution_count": 87,
   "id": "958293da-0f18-4b71-a688-62707e58a080",
   "metadata": {
    "pycharm": {
     "name": "#%%\n"
    }
   },
   "outputs": [
    {
     "data": {
      "image/png": "[encoded data removed]",
      "text/plain": [
       "<Figure size 432x288 with 1 Axes>"
      ]
     },
     "metadata": {
      "needs_background": "light"
     },
     "output_type": "display_data"
    }
   ],
   "source": [
    "plt.imshow(X_test[img_idx]);"
   ]
  },
  {
   "cell_type": "code",
   "execution_count": null,
   "id": "0e5c7153-c7af-420a-8f3e-dcad96246f99",
   "metadata": {
    "pycharm": {
     "name": "#%%\n"
    }
   },
   "outputs": [],
   "source": []
  },
  {
   "cell_type": "code",
   "execution_count": 67,
   "id": "e8c2dc71-f1c8-4177-8615-e3635ff2891d",
   "metadata": {
    "pycharm": {
     "name": "#%%\n"
    }
   },
   "outputs": [
    {
     "data": {
      "text/plain": [
       "25"
      ]
     },
     "execution_count": 67,
     "metadata": {},
     "output_type": "execute_result"
    }
   ],
   "source": [
    "np.argmax(prob)"
   ]
  },
  {
   "cell_type": "code",
   "execution_count": 69,
   "id": "72e017a4-6056-4260-92e2-09eb55d1f7e3",
   "metadata": {
    "pycharm": {
     "name": "#%%\n"
    }
   },
   "outputs": [
    {
     "data": {
      "text/plain": [
       "array([0., 0., 0., 0., 0., 0., 0., 0., 0., 0., 0., 0., 0., 0., 0., 0., 0.,\n",
       "       0., 0., 0., 0., 0., 0., 0., 0., 1., 0., 0.], dtype=float32)"
      ]
     },
     "execution_count": 69,
     "metadata": {},
     "output_type": "execute_result"
    }
   ],
   "source": [
    "y_test[120]"
   ]
  },
  {
   "cell_type": "code",
   "execution_count": 70,
   "id": "06faa265-4584-4cfa-a4a9-f04fdddf6247",
   "metadata": {
    "pycharm": {
     "name": "#%%\n"
    }
   },
   "outputs": [
    {
     "data": {
      "text/plain": [
       "25"
      ]
     },
     "execution_count": 70,
     "metadata": {},
     "output_type": "execute_result"
    }
   ],
   "source": [
    "np.argmax(y_test[120])"
   ]
  },
  {
   "cell_type": "code",
   "execution_count": 43,
   "id": "5d565471-c00e-4fe6-acdc-e951cfed4842",
   "metadata": {
    "pycharm": {
     "name": "#%%\n"
    }
   },
   "outputs": [
    {
     "name": "stdout",
     "output_type": "stream",
     "text": [
      "32/32 [==============================] - 3s 81ms/step - loss: 0.8722 - accuracy: 0.7441\n"
     ]
    }
   ],
   "source": [
    "score = model.evaluate(X_test, y_test)"
   ]
  },
  {
   "cell_type": "code",
   "execution_count": 47,
   "id": "97c5c9ad-c6a4-4abb-ae61-8b1e909f373d",
   "metadata": {
    "pycharm": {
     "name": "#%%\n"
    }
   },
   "outputs": [
    {
     "data": {
      "text/plain": [
       "[0.8721778988838196, 0.7441176176071167]"
      ]
     },
     "execution_count": 47,
     "metadata": {},
     "output_type": "execute_result"
    }
   ],
   "source": [
    "score"
   ]
  },
  {
   "cell_type": "code",
   "execution_count": 46,
   "id": "95fa3b17-6305-4c27-8547-3555991e3f05",
   "metadata": {
    "pycharm": {
     "name": "#%%\n"
    }
   },
   "outputs": [
    {
     "data": {
      "image/png": "[encoded data removed]",
      "text/plain": [
       "<Figure size 1152x432 with 2 Axes>"
      ]
     },
     "metadata": {
      "needs_background": "light"
     },
     "output_type": "display_data"
    }
   ],
   "source": [
    "ig, axes = plt.subplots(nrows=1, ncols=2, figsize=(16, 6))\n",
    "\n",
    "axes[0].plot(history.history['accuracy'])\n",
    "axes[0].plot(history.history['val_accuracy'])\n",
    "axes[0].set_title('Model Accuracy')\n",
    "axes[0].set_ylabel('Accuracy')\n",
    "axes[0].set_xlabel('Epoch')\n",
    "axes[0].legend(['train', 'validation'], loc='upper left')\n",
    "\n",
    "axes[1].plot(history.history['loss'])\n",
    "axes[1].plot(history.history['val_loss'])\n",
    "axes[1].set_title('Model Loss')\n",
    "axes[1].set_ylabel('Loss')\n",
    "axes[1].set_xlabel('Epoch')\n",
    "axes[1].legend(['train', 'validation'], loc='upper left')\n",
    "\n",
    "plt.show()\n"
   ]
  },
  {
   "cell_type": "code",
   "execution_count": null,
   "id": "7ed4052f-4a06-4c27-9d23-9d03f0eb494d",
   "metadata": {
    "pycharm": {
     "name": "#%%\n"
    }
   },
   "outputs": [],
   "source": []
  }
 ],
 "metadata": {
  "kernelspec": {
   "display_name": "Python 3 (ipykernel)",
   "language": "python",
   "name": "python3"
  },
  "language_info": {
   "codemirror_mode": {
    "name": "ipython",
    "version": 3
   },
   "file_extension": ".py",
   "mimetype": "text/x-python",
   "name": "python",
   "nbconvert_exporter": "python",
   "pygments_lexer": "ipython3",
   "version": "3.9.16"
  },
  "toc-autonumbering": true,
  "toc-showmarkdowntxt": true
 },
 "nbformat": 4,
 "nbformat_minor": 5
}