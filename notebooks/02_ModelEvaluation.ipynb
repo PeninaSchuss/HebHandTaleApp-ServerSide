{
 "cells": [
  {
   "cell_type": "code",
   "execution_count": 1,
   "id": "095150d7-4f39-408b-ad2b-20f9c0a0477b",
   "metadata": {},
   "outputs": [
    {
     "data": {
      "text/plain": [
       "'/usr/local/opt/python@3.9/bin/python3.9'"
      ]
     },
     "execution_count": 1,
     "metadata": {},
     "output_type": "execute_result"
    }
   ],
   "source": [
    "import sys\n",
    "sys.executable"
   ]
  },
  {
   "cell_type": "code",
   "execution_count": 2,
   "id": "f790b8b9-25bc-4dd9-8e6f-0805f0a11e2b",
   "metadata": {},
   "outputs": [],
   "source": [
    "import cv2\n",
    "import numpy as np\n",
    "from matplotlib import pyplot as plt"
   ]
  },
  {
   "cell_type": "markdown",
   "id": "794baf1b-b4ab-4287-9d55-3917d284b956",
   "metadata": {},
   "source": [
    "# Part 1 - Segmentation"
   ]
  },
  {
   "cell_type": "code",
   "execution_count": 3,
   "id": "066e62ea-7703-49d5-88bb-13cf03355f3f",
   "metadata": {},
   "outputs": [],
   "source": [
    "image_path = 'segmentation/call.png'"
   ]
  },
  {
   "cell_type": "code",
   "execution_count": 4,
   "id": "42acf90a-f3af-4286-9390-28c67872a10b",
   "metadata": {},
   "outputs": [],
   "source": [
    "# img = cv2.imread('segmentation/call.png')\n",
    "# gray = cv2.cvtColor(img, cv2.COLOR_BGR2GRAY)\n",
    "# plt.imshow(gray);\n",
    "# _, thresh = cv2.threshold(gray, 0, 255, cv2.THRESH_BINARY_INV + cv2.THRESH_OTSU)\n",
    "# plt.imshow(thresh);"
   ]
  },
  {
   "cell_type": "code",
   "execution_count": 5,
   "id": "18a9d0f9-bc10-4d12-b793-a747cc8110d3",
   "metadata": {},
   "outputs": [],
   "source": [
    "def process_image(image_path):\n",
    "    # 01 - Load the image\n",
    "    img = cv2.imread(image_path)\n",
    "    # 02 - Convert the image to grayscale\n",
    "    gray = cv2.cvtColor(img, cv2.COLOR_BGR2GRAY) # numpy.ndarray, (257, 522)\n",
    "    # 03 - Apply thresholding to convert the image to binary\n",
    "    _, thresh = cv2.threshold(gray, 0, 255, cv2.THRESH_BINARY_INV + cv2.THRESH_OTSU)\n",
    "    # 04 - Perform connected component analysis to separate the characters\n",
    "    connected_components_output = cv2.connectedComponentsWithStats(thresh, connectivity=8)\n",
    "    # 05 - Extract characters\n",
    "    chars = _process_characters(connected_components_output)\n",
    "    return chars"
   ]
  },
  {
   "cell_type": "code",
   "execution_count": 6,
   "id": "9510ce7d-1f59-4fe5-b82d-e3066a80792d",
   "metadata": {},
   "outputs": [],
   "source": [
    "def _process_characters(connected_components_output):\n",
    "    num_labels, labels, stats, centroids = connected_components_output\n",
    "    # Get the number of characters (excluding the background)\n",
    "    num_chars = num_labels - 1\n",
    "    # Define a list to store individual characters\n",
    "    chars = []\n",
    "    # Define a list to store the coordinates of each character\n",
    "    coords = []\n",
    "    # Loop through each character\n",
    "    for i in range(num_chars):\n",
    "        # Extract the character by cropping the image\n",
    "        char = labels == i + 1\n",
    "        char = char.astype(np.uint8) * 255\n",
    "\n",
    "        # Store the character and its coordinates\n",
    "        chars.append(char)\n",
    "        coords.append(stats[i+1][:2])\n",
    "    # Sort the characters based on their x-coordinates (from right to left)\n",
    "    chars = [char for _, char in sorted(zip(coords, chars), key=lambda x: x[0][0], reverse=True)]\n",
    "    assert len(chars) == num_chars\n",
    "    return chars"
   ]
  },
  {
   "cell_type": "code",
   "execution_count": 7,
   "id": "1f5bb772-ef75-40b9-a7c4-99a5ad31ec9d",
   "metadata": {},
   "outputs": [],
   "source": [
    "chars = process_image('segmentation/call.png')"
   ]
  },
  {
   "cell_type": "code",
   "execution_count": 8,
   "id": "13833504-9478-4534-843b-2a1cdbcad040",
   "metadata": {},
   "outputs": [
    {
     "data": {
      "image/png": "[encoded data removed]",
      "text/plain": [
       "<Figure size 1080x360 with 8 Axes>"
      ]
     },
     "metadata": {
      "needs_background": "light"
     },
     "output_type": "display_data"
    }
   ],
   "source": [
    "fig, axes = plt.subplots(2, len(chars)//2, sharex=True, sharey=True, figsize=(15, 5))\n",
    "\n",
    "for (i, img), ax in zip(enumerate(chars), axes.flat):\n",
    "    ax.imshow(img)\n",
    "    ax.axis('off')\n",
    "    ax.set_title(i)"
   ]
  },
  {
   "cell_type": "markdown",
   "id": "bd180b5d-e976-41fa-b381-1c5c9be47e29",
   "metadata": {},
   "source": [
    "# Part 2 - Classification"
   ]
  },
  {
   "cell_type": "code",
   "execution_count": 9,
   "id": "a5ed0fed-c62d-4eab-9f96-032d4979f7dd",
   "metadata": {},
   "outputs": [
    {
     "name": "stderr",
     "output_type": "stream",
     "text": [
      "2023-05-23 08:47:13.080309: I tensorflow/core/platform/cpu_feature_guard.cc:193] This TensorFlow binary is optimized with oneAPI Deep Neural Network Library (oneDNN) to use the following CPU instructions in performance-critical operations:  AVX2 FMA\n",
      "To enable them in other operations, rebuild TensorFlow with the appropriate compiler flags.\n"
     ]
    }
   ],
   "source": [
    "import os\n",
    "import matplotlib.pyplot as plt\n",
    "from tqdm import tqdm\n",
    "# from keras.preprocessing import image\n",
    "from tensorflow.keras.utils import to_categorical\n",
    "from tensorflow.keras.utils import load_img\n",
    "from tensorflow.keras.utils import img_to_array\n",
    "from keras.models import Sequential\n",
    "from keras.applications.vgg19 import VGG19\n",
    "from keras.layers import Dense, Flatten\n",
    "from sklearn.model_selection import train_test_split\n",
    "# from sklearn.preprocessing import LabelEncoder\n",
    "# from PIL import Image\n",
    "# from keras.models import load_model\n",
    "# from keras.preprocessing import image\n",
    "import numpy as np"
   ]
  },
  {
   "cell_type": "code",
   "execution_count": 24,
   "id": "357d5061-91a1-4995-9c91-884e5514084e",
   "metadata": {},
   "outputs": [],
   "source": [
    "# prepare a list of image files to be loaded\n",
    "def image_files(input_directory):\n",
    "    filepaths = []\n",
    "    labels = []\n",
    "\n",
    "    digit_folders = os.listdir(input_directory)\n",
    "    # print(digit_folders)\n",
    "\n",
    "    for digit in digit_folders:\n",
    "        path = os.path.join(input_directory, digit)\n",
    "        flist = os.listdir(path)\n",
    "        for f in flist:\n",
    "            fpath = os.path.join(path, f)\n",
    "            filepaths.append(fpath)\n",
    "            labels.append(digit)\n",
    "    return filepaths, labels\n",
    "\n",
    "\n",
    "def load_images(filepaths):\n",
    "    images = []\n",
    "    for i in tqdm(range(len(filepaths))):\n",
    "        img = load_img(filepaths[i], target_size=(32, 32, 3), grayscale=False)\n",
    "        img = img_to_array(img)\n",
    "        img.astype('float32')\n",
    "        img = img / 255\n",
    "        images.append(img)\n",
    "\n",
    "    images = np.array(images)\n",
    "    return images"
   ]
  },
  {
   "cell_type": "code",
   "execution_count": 28,
   "id": "7ca11532-ec06-47f8-b6e2-a05ab92678d0",
   "metadata": {},
   "outputs": [],
   "source": [
    "# load the paths and labels in differnt variables\n",
    "directory_10k = r'/Users/stav/Projects/CodeSH/vgg_for_final_project/TRAIN'\n",
    "filepaths, labels = image_files(directory_10k) # 5,099 files"
   ]
  },
  {
   "cell_type": "code",
   "execution_count": 29,
   "id": "1f0df302-09d0-4025-8089-00996867fc66",
   "metadata": {},
   "outputs": [
    {
     "data": {
      "text/plain": [
       "5099"
      ]
     },
     "execution_count": 29,
     "metadata": {},
     "output_type": "execute_result"
    }
   ],
   "source": [
    "len(filepaths)"
   ]
  },
  {
   "cell_type": "code",
   "execution_count": 30,
   "id": "4b3b22fb-0f88-4b3b-8c58-8a3f11a98a59",
   "metadata": {},
   "outputs": [
    {
     "name": "stderr",
     "output_type": "stream",
     "text": [
      "100%|██████████████████████████████████████████████████████████████████████████████████████████████████████| 5099/5099 [00:04<00:00, 1250.32it/s]\n"
     ]
    }
   ],
   "source": [
    "# load the 10K images\n",
    "images = load_images(filepaths)"
   ]
  },
  {
   "cell_type": "code",
   "execution_count": 31,
   "id": "e08a966d-8af3-4070-b642-2f0bf5179da4",
   "metadata": {},
   "outputs": [],
   "source": [
    "y = to_categorical(labels, num_classes=28)\n",
    "X_train, X_test, y_train, y_test = train_test_split(images, y, random_state=42, test_size=0.2)"
   ]
  },
  {
   "cell_type": "code",
   "execution_count": 32,
   "id": "da00fe95-7685-4404-9fe3-4ec275318238",
   "metadata": {},
   "outputs": [
    {
     "name": "stdout",
     "output_type": "stream",
     "text": [
      "(4079, 32, 32, 3)\n",
      "(1020, 32, 32, 3)\n"
     ]
    }
   ],
   "source": [
    "print(X_train.shape)\n",
    "print(X_test.shape)"
   ]
  },
  {
   "cell_type": "code",
   "execution_count": 33,
   "id": "1f3024fb-7c15-4ed1-9ec1-c35b1a920b93",
   "metadata": {},
   "outputs": [
    {
     "name": "stderr",
     "output_type": "stream",
     "text": [
      "2023-05-23 08:50:51.899173: I tensorflow/core/platform/cpu_feature_guard.cc:193] This TensorFlow binary is optimized with oneAPI Deep Neural Network Library (oneDNN) to use the following CPU instructions in performance-critical operations:  AVX2 FMA\n",
      "To enable them in other operations, rebuild TensorFlow with the appropriate compiler flags.\n"
     ]
    }
   ],
   "source": [
    "vgg19 = VGG19(weights='imagenet',\n",
    "              include_top=False,\n",
    "              input_shape=(32, 32, 3)\n",
    "              )"
   ]
  },
  {
   "cell_type": "code",
   "execution_count": 34,
   "id": "a7e30422-6abd-499a-9a68-46c74f931333",
   "metadata": {},
   "outputs": [
    {
     "data": {
      "text/plain": [
       "<keras.engine.functional.Functional at 0x16ed23280>"
      ]
     },
     "execution_count": 34,
     "metadata": {},
     "output_type": "execute_result"
    }
   ],
   "source": [
    "vgg19"
   ]
  },
  {
   "cell_type": "code",
   "execution_count": 35,
   "id": "0ed3773a-c072-41b9-98cf-62757bbe9e23",
   "metadata": {},
   "outputs": [],
   "source": [
    "model = Sequential()\n",
    "model.add(vgg19)\n",
    "model.add(Flatten())\n",
    "model.add(Dense(28, activation='softmax'))\n",
    "model.compile(loss='categorical_crossentropy',\n",
    "              optimizer='sgd',\n",
    "              metrics=['accuracy'])"
   ]
  },
  {
   "cell_type": "code",
   "execution_count": 37,
   "id": "7c73b228-800a-4639-919e-bad168414213",
   "metadata": {},
   "outputs": [
    {
     "data": {
      "text/plain": [
       "[<keras.engine.functional.Functional at 0x16ed23280>,\n",
       " <keras.layers.reshaping.flatten.Flatten at 0x16ed27670>,\n",
       " <keras.layers.core.dense.Dense at 0x16ea54580>]"
      ]
     },
     "execution_count": 37,
     "metadata": {},
     "output_type": "execute_result"
    }
   ],
   "source": [
    "model.layers"
   ]
  },
  {
   "cell_type": "code",
   "execution_count": 39,
   "id": "a6e2b446-8cf1-458d-bcf5-8be31119d0ab",
   "metadata": {},
   "outputs": [
    {
     "name": "stdout",
     "output_type": "stream",
     "text": [
      "Model: \"sequential\"\n",
      "_________________________________________________________________\n",
      " Layer (type)                Output Shape              Param #   \n",
      "=================================================================\n",
      " vgg19 (Functional)          (None, 1, 1, 512)         20024384  \n",
      "                                                                 \n",
      " flatten (Flatten)           (None, 512)               0         \n",
      "                                                                 \n",
      " dense (Dense)               (None, 28)                14364     \n",
      "                                                                 \n",
      "=================================================================\n",
      "Total params: 20,038,748\n",
      "Trainable params: 20,038,748\n",
      "Non-trainable params: 0\n",
      "_________________________________________________________________\n"
     ]
    }
   ],
   "source": [
    "model.summary()"
   ]
  },
  {
   "cell_type": "code",
   "execution_count": 40,
   "id": "a92d4b81-3190-44c1-b2f8-928a61b9d089",
   "metadata": {},
   "outputs": [
    {
     "name": "stdout",
     "output_type": "stream",
     "text": [
      "Epoch 1/5\n",
      "32/32 [==============================] - 85s 3s/step - loss: 3.0214 - accuracy: 0.1797 - val_loss: 2.7893 - val_accuracy: 0.2157\n",
      "Epoch 2/5\n",
      "32/32 [==============================] - 86s 3s/step - loss: 1.8940 - accuracy: 0.4663 - val_loss: 1.1105 - val_accuracy: 0.6784\n",
      "Epoch 3/5\n",
      "32/32 [==============================] - 84s 3s/step - loss: 0.8774 - accuracy: 0.7438 - val_loss: 0.8436 - val_accuracy: 0.7716\n",
      "Epoch 4/5\n",
      "32/32 [==============================] - 99s 3s/step - loss: 0.7048 - accuracy: 0.7980 - val_loss: 0.8147 - val_accuracy: 0.7529\n",
      "Epoch 5/5\n",
      "32/32 [==============================] - 103s 3s/step - loss: 0.5880 - accuracy: 0.8208 - val_loss: 0.8722 - val_accuracy: 0.7441\n"
     ]
    }
   ],
   "source": [
    "EPOCHS = 5\n",
    "history = model.fit(X_train, y_train,\n",
    "                    epochs=EPOCHS,\n",
    "                    batch_size=128,\n",
    "                    validation_data=(X_test, y_test)\n",
    "                    )"
   ]
  },
  {
   "cell_type": "code",
   "execution_count": 48,
   "id": "2a3b2179-5bfc-494d-817a-4b1f5bf6fdf3",
   "metadata": {},
   "outputs": [
    {
     "data": {
      "text/plain": [
       "<keras.engine.sequential.Sequential at 0x16ed275b0>"
      ]
     },
     "execution_count": 48,
     "metadata": {},
     "output_type": "execute_result"
    }
   ],
   "source": [
    "model"
   ]
  },
  {
   "cell_type": "code",
   "execution_count": null,
   "id": "bd824e05-310f-45d7-9a32-859350d600e9",
   "metadata": {},
   "outputs": [],
   "source": [
    "model("
   ]
  },
  {
   "cell_type": "code",
   "execution_count": 50,
   "id": "6473872f-48c5-4444-9902-9a5275b9e97f",
   "metadata": {},
   "outputs": [
    {
     "data": {
      "text/plain": [
       "(1020, 28)"
      ]
     },
     "execution_count": 50,
     "metadata": {},
     "output_type": "execute_result"
    }
   ],
   "source": [
    "y_test.shape"
   ]
  },
  {
   "cell_type": "code",
   "execution_count": 51,
   "id": "4d75fcbf-c237-4f24-8de5-5046c82b8651",
   "metadata": {},
   "outputs": [
    {
     "data": {
      "text/plain": [
       "array([0., 0., 0., 0., 0., 0., 0., 0., 0., 0., 0., 1., 0., 0., 0., 0., 0.,\n",
       "       0., 0., 0., 0., 0., 0., 0., 0., 0., 0., 0.], dtype=float32)"
      ]
     },
     "execution_count": 51,
     "metadata": {},
     "output_type": "execute_result"
    }
   ],
   "source": [
    "y_test[2]"
   ]
  },
  {
   "cell_type": "code",
   "execution_count": 52,
   "id": "c646e694-b3fe-4699-b10e-4ce5088aff71",
   "metadata": {},
   "outputs": [
    {
     "data": {
      "text/plain": [
       "array([0., 0., 0., 0., 0., 0., 0., 0., 0., 0., 0., 0., 0., 0., 0., 0., 0.,\n",
       "       0., 0., 0., 0., 1., 0., 0., 0., 0., 0., 0.], dtype=float32)"
      ]
     },
     "execution_count": 52,
     "metadata": {},
     "output_type": "execute_result"
    }
   ],
   "source": [
    "y_test[20]"
   ]
  },
  {
   "cell_type": "code",
   "execution_count": 82,
   "id": "556df679-50cc-481d-a008-8e79bc58a0d7",
   "metadata": {},
   "outputs": [
    {
     "name": "stdout",
     "output_type": "stream",
     "text": [
      "1/1 [==============================] - 0s 51ms/step\n",
      "Error for index: 0\n",
      "1/1 [==============================] - 0s 42ms/step\n",
      "1/1 [==============================] - 0s 37ms/step\n",
      "Error for index: 2\n",
      "1/1 [==============================] - 0s 37ms/step\n",
      "1/1 [==============================] - 0s 42ms/step\n",
      "Error for index: 4\n",
      "1/1 [==============================] - 0s 34ms/step\n",
      "Error for index: 5\n",
      "1/1 [==============================] - 0s 38ms/step\n",
      "1/1 [==============================] - 0s 34ms/step\n",
      "1/1 [==============================] - 0s 38ms/step\n",
      "1/1 [==============================] - 0s 42ms/step\n",
      "1/1 [==============================] - 0s 40ms/step\n",
      "Error for index: 10\n",
      "1/1 [==============================] - 0s 38ms/step\n",
      "Error for index: 11\n",
      "1/1 [==============================] - 0s 35ms/step\n",
      "1/1 [==============================] - 0s 35ms/step\n",
      "1/1 [==============================] - 0s 35ms/step\n",
      "1/1 [==============================] - 0s 33ms/step\n",
      "1/1 [==============================] - 0s 35ms/step\n",
      "1/1 [==============================] - 0s 35ms/step\n",
      "1/1 [==============================] - 0s 35ms/step\n",
      "1/1 [==============================] - 0s 34ms/step\n",
      "1/1 [==============================] - 0s 30ms/step\n",
      "1/1 [==============================] - 0s 33ms/step\n",
      "Error for index: 21\n",
      "1/1 [==============================] - 0s 32ms/step\n",
      "1/1 [==============================] - 0s 37ms/step\n",
      "Error for index: 23\n",
      "1/1 [==============================] - 0s 34ms/step\n",
      "1/1 [==============================] - 0s 34ms/step\n",
      "Error for index: 25\n",
      "1/1 [==============================] - 0s 37ms/step\n",
      "1/1 [==============================] - 0s 34ms/step\n",
      "1/1 [==============================] - 0s 34ms/step\n",
      "1/1 [==============================] - 0s 34ms/step\n",
      "1/1 [==============================] - 0s 34ms/step\n",
      "1/1 [==============================] - 0s 35ms/step\n",
      "Error for index: 31\n",
      "1/1 [==============================] - 0s 39ms/step\n",
      "1/1 [==============================] - 0s 35ms/step\n",
      "1/1 [==============================] - 0s 37ms/step\n",
      "1/1 [==============================] - 0s 33ms/step\n",
      "Error for index: 35\n",
      "1/1 [==============================] - 0s 32ms/step\n",
      "1/1 [==============================] - 0s 34ms/step\n",
      "1/1 [==============================] - 0s 40ms/step\n",
      "Error for index: 38\n",
      "1/1 [==============================] - 0s 35ms/step\n",
      "Error for index: 39\n",
      "1/1 [==============================] - 0s 36ms/step\n",
      "1/1 [==============================] - 0s 33ms/step\n",
      "1/1 [==============================] - 0s 33ms/step\n",
      "Error for index: 42\n",
      "1/1 [==============================] - 0s 32ms/step\n",
      "Error for index: 43\n",
      "1/1 [==============================] - 0s 36ms/step\n",
      "Error for index: 44\n",
      "1/1 [==============================] - 0s 32ms/step\n",
      "1/1 [==============================] - 0s 50ms/step\n",
      "Error for index: 46\n",
      "1/1 [==============================] - 0s 36ms/step\n",
      "1/1 [==============================] - 0s 36ms/step\n",
      "1/1 [==============================] - 0s 34ms/step\n",
      "1/1 [==============================] - 0s 30ms/step\n",
      "1/1 [==============================] - 0s 32ms/step\n",
      "1/1 [==============================] - 0s 36ms/step\n",
      "1/1 [==============================] - 0s 33ms/step\n",
      "1/1 [==============================] - 0s 31ms/step\n",
      "1/1 [==============================] - 0s 33ms/step\n",
      "1/1 [==============================] - 0s 31ms/step\n",
      "1/1 [==============================] - 0s 35ms/step\n",
      "1/1 [==============================] - 0s 32ms/step\n",
      "1/1 [==============================] - 0s 29ms/step\n",
      "1/1 [==============================] - 0s 35ms/step\n",
      "1/1 [==============================] - 0s 32ms/step\n",
      "1/1 [==============================] - 0s 35ms/step\n",
      "Error for index: 62\n",
      "1/1 [==============================] - 0s 36ms/step\n",
      "1/1 [==============================] - 0s 33ms/step\n",
      "Error for index: 64\n",
      "1/1 [==============================] - 0s 33ms/step\n",
      "Error for index: 65\n",
      "1/1 [==============================] - 0s 42ms/step\n",
      "Error for index: 66\n",
      "1/1 [==============================] - 0s 35ms/step\n",
      "1/1 [==============================] - 0s 34ms/step\n",
      "1/1 [==============================] - 0s 33ms/step\n",
      "1/1 [==============================] - 0s 32ms/step\n",
      "1/1 [==============================] - 0s 31ms/step\n",
      "1/1 [==============================] - 0s 32ms/step\n",
      "1/1 [==============================] - 0s 34ms/step\n",
      "1/1 [==============================] - 0s 33ms/step\n",
      "1/1 [==============================] - 0s 34ms/step\n",
      "1/1 [==============================] - 0s 33ms/step\n",
      "1/1 [==============================] - 0s 34ms/step\n",
      "1/1 [==============================] - 0s 29ms/step\n",
      "1/1 [==============================] - 0s 33ms/step\n",
      "Error for index: 79\n",
      "1/1 [==============================] - 0s 32ms/step\n",
      "1/1 [==============================] - 0s 33ms/step\n",
      "1/1 [==============================] - 0s 33ms/step\n",
      "1/1 [==============================] - 0s 32ms/step\n",
      "Error for index: 83\n",
      "1/1 [==============================] - 0s 31ms/step\n",
      "Error for index: 84\n",
      "1/1 [==============================] - 0s 32ms/step\n",
      "1/1 [==============================] - 0s 38ms/step\n",
      "1/1 [==============================] - 0s 35ms/step\n",
      "1/1 [==============================] - 0s 37ms/step\n",
      "1/1 [==============================] - 0s 28ms/step\n",
      "Error for index: 89\n",
      "1/1 [==============================] - 0s 34ms/step\n",
      "Error for index: 90\n",
      "1/1 [==============================] - 0s 35ms/step\n",
      "Error for index: 91\n",
      "1/1 [==============================] - 0s 44ms/step\n",
      "1/1 [==============================] - 0s 43ms/step\n",
      "Error for index: 93\n",
      "1/1 [==============================] - 0s 36ms/step\n",
      "1/1 [==============================] - 0s 42ms/step\n",
      "Error for index: 95\n",
      "1/1 [==============================] - 0s 34ms/step\n",
      "1/1 [==============================] - 0s 47ms/step\n",
      "Error for index: 97\n",
      "1/1 [==============================] - 0s 36ms/step\n",
      "1/1 [==============================] - 0s 33ms/step\n"
     ]
    }
   ],
   "source": [
    "for img_idx in range(100):\n",
    "    prob = model.predict(X_test[img_idx].reshape(1, 32, 32, 3))\n",
    "    y_pred   = np.argmax(prob)            # softmax output\n",
    "    y_actual = np.argmax(y_test[img_idx]) # one-hot encoding\n",
    "    if y_pred != y_actual:\n",
    "        print('Error for index:', img_idx)"
   ]
  },
  {
   "cell_type": "code",
   "execution_count": 83,
   "id": "e5ef2bf9-d740-489a-8a26-2d083f35849f",
   "metadata": {},
   "outputs": [
    {
     "name": "stdout",
     "output_type": "stream",
     "text": [
      "1/1 [==============================] - 0s 39ms/step\n"
     ]
    }
   ],
   "source": [
    "img_idx = 79\n",
    "prob = model.predict(X_test[img_idx].reshape(1, 32, 32, 3))\n",
    "y_pred   = np.argmax(prob)            # softmax output\n",
    "y_actual = np.argmax(y_test[img_idx]) # one-hot encoding"
   ]
  },
  {
   "cell_type": "code",
   "execution_count": 85,
   "id": "5b85f30a-b617-497e-aa62-3cae5647b995",
   "metadata": {},
   "outputs": [
    {
     "data": {
      "text/plain": [
       "(26, 14)"
      ]
     },
     "execution_count": 85,
     "metadata": {},
     "output_type": "execute_result"
    }
   ],
   "source": [
    "y_pred, y_actual"
   ]
  },
  {
   "cell_type": "code",
   "execution_count": 109,
   "id": "b7048aba-7da8-4791-ab3a-6181c10e7781",
   "metadata": {},
   "outputs": [
    {
     "data": {
      "text/plain": [
       "array([[5.2701775e-04, 1.7752871e-04, 7.4542462e-05, 1.2391385e-04,\n",
       "        4.4470813e-05, 5.2801561e-06, 1.2626484e-04, 1.3309697e-04,\n",
       "        3.8806818e-05, 3.7252287e-06, 3.0750962e-05, 2.5051946e-04,\n",
       "        3.1568683e-03, 4.0978044e-05, 1.7307270e-02, 3.9947601e-03,\n",
       "        1.6768216e-04, 1.7573951e-05, 6.6044577e-04, 1.6924777e-04,\n",
       "        1.8496968e-02, 1.0224337e-03, 1.4309661e-01, 2.4420233e-04,\n",
       "        5.5946282e-05, 1.0446213e-04, 8.0987108e-01, 5.7500467e-05]],\n",
       "      dtype=float32)"
      ]
     },
     "execution_count": 109,
     "metadata": {},
     "output_type": "execute_result"
    }
   ],
   "source": [
    "prob"
   ]
  },
  {
   "cell_type": "code",
   "execution_count": 108,
   "id": "187412b9-32ce-4c0a-aa03-cf0eeb2d90a2",
   "metadata": {},
   "outputs": [
    {
     "name": "stdout",
     "output_type": "stream",
     "text": [
      "00.  0.000527\n",
      "01.  0.000178\n",
      "02.  0.000075\n",
      "03.  0.000124\n",
      "04.  0.000044\n",
      "05.  0.000005\n",
      "06.  0.000126\n",
      "07.  0.000133\n",
      "08.  0.000039\n",
      "09.  0.000004\n",
      "10.  0.000031\n",
      "11.  0.000251\n",
      "12.  0.003157\n",
      "13.  0.000041\n",
      "14.  0.017307\n",
      "15.  0.003995\n",
      "16.  0.000168\n",
      "17.  0.000018\n",
      "18.  0.000660\n",
      "19.  0.000169\n",
      "20.  0.018497\n",
      "21.  0.001022\n",
      "22.  0.143097\n",
      "23.  0.000244\n",
      "24.  0.000056\n",
      "25.  0.000104\n",
      "26.  0.809871\n",
      "27.  0.000058\n"
     ]
    }
   ],
   "source": [
    "for i, p in enumerate(prob[0]):\n",
    "    print(f'{i:02}.  {p:.6f}')"
   ]
  },
  {
   "cell_type": "code",
   "execution_count": 92,
   "id": "53a538e6-a4ee-46d8-b0e1-9dbd009b0e49",
   "metadata": {},
   "outputs": [],
   "source": [
    "import seaborn as sns"
   ]
  },
  {
   "cell_type": "code",
   "execution_count": 87,
   "id": "958293da-0f18-4b71-a688-62707e58a080",
   "metadata": {},
   "outputs": [
    {
     "data": {
      "image/png": "[encoded data removed]",
      "text/plain": [
       "<Figure size 432x288 with 1 Axes>"
      ]
     },
     "metadata": {
      "needs_background": "light"
     },
     "output_type": "display_data"
    }
   ],
   "source": [
    "plt.imshow(X_test[img_idx]);"
   ]
  },
  {
   "cell_type": "code",
   "execution_count": null,
   "id": "0e5c7153-c7af-420a-8f3e-dcad96246f99",
   "metadata": {},
   "outputs": [],
   "source": []
  },
  {
   "cell_type": "code",
   "execution_count": 67,
   "id": "e8c2dc71-f1c8-4177-8615-e3635ff2891d",
   "metadata": {},
   "outputs": [
    {
     "data": {
      "text/plain": [
       "25"
      ]
     },
     "execution_count": 67,
     "metadata": {},
     "output_type": "execute_result"
    }
   ],
   "source": [
    "np.argmax(prob)"
   ]
  },
  {
   "cell_type": "code",
   "execution_count": 69,
   "id": "72e017a4-6056-4260-92e2-09eb55d1f7e3",
   "metadata": {},
   "outputs": [
    {
     "data": {
      "text/plain": [
       "array([0., 0., 0., 0., 0., 0., 0., 0., 0., 0., 0., 0., 0., 0., 0., 0., 0.,\n",
       "       0., 0., 0., 0., 0., 0., 0., 0., 1., 0., 0.], dtype=float32)"
      ]
     },
     "execution_count": 69,
     "metadata": {},
     "output_type": "execute_result"
    }
   ],
   "source": [
    "y_test[120]"
   ]
  },
  {
   "cell_type": "code",
   "execution_count": 70,
   "id": "06faa265-4584-4cfa-a4a9-f04fdddf6247",
   "metadata": {},
   "outputs": [
    {
     "data": {
      "text/plain": [
       "25"
      ]
     },
     "execution_count": 70,
     "metadata": {},
     "output_type": "execute_result"
    }
   ],
   "source": [
    "np.argmax(y_test[120])"
   ]
  },
  {
   "cell_type": "code",
   "execution_count": 43,
   "id": "5d565471-c00e-4fe6-acdc-e951cfed4842",
   "metadata": {},
   "outputs": [
    {
     "name": "stdout",
     "output_type": "stream",
     "text": [
      "32/32 [==============================] - 3s 81ms/step - loss: 0.8722 - accuracy: 0.7441\n"
     ]
    }
   ],
   "source": [
    "score = model.evaluate(X_test, y_test)"
   ]
  },
  {
   "cell_type": "code",
   "execution_count": 47,
   "id": "97c5c9ad-c6a4-4abb-ae61-8b1e909f373d",
   "metadata": {},
   "outputs": [
    {
     "data": {
      "text/plain": [
       "[0.8721778988838196, 0.7441176176071167]"
      ]
     },
     "execution_count": 47,
     "metadata": {},
     "output_type": "execute_result"
    }
   ],
   "source": [
    "score"
   ]
  },
  {
   "cell_type": "code",
   "execution_count": 46,
   "id": "95fa3b17-6305-4c27-8547-3555991e3f05",
   "metadata": {},
   "outputs": [
    {
     "data": {
      "image/png": "[encoded data removed]",
      "text/plain": [
       "<Figure size 1152x432 with 2 Axes>"
      ]
     },
     "metadata": {
      "needs_background": "light"
     },
     "output_type": "display_data"
    }
   ],
   "source": [
    "ig, axes = plt.subplots(nrows=1, ncols=2, figsize=(16, 6))\n",
    "\n",
    "axes[0].plot(history.history['accuracy'])\n",
    "axes[0].plot(history.history['val_accuracy'])\n",
    "axes[0].set_title('Model Accuracy')\n",
    "axes[0].set_ylabel('Accuracy')\n",
    "axes[0].set_xlabel('Epoch')\n",
    "axes[0].legend(['train', 'validation'], loc='upper left')\n",
    "\n",
    "axes[1].plot(history.history['loss'])\n",
    "axes[1].plot(history.history['val_loss'])\n",
    "axes[1].set_title('Model Loss')\n",
    "axes[1].set_ylabel('Loss')\n",
    "axes[1].set_xlabel('Epoch')\n",
    "axes[1].legend(['train', 'validation'], loc='upper left')\n",
    "\n",
    "plt.show()\n"
   ]
  },
  {
   "cell_type": "code",
   "execution_count": null,
   "id": "7ed4052f-4a06-4c27-9d23-9d03f0eb494d",
   "metadata": {},
   "outputs": [],
   "source": []
  }
 ],
 "metadata": {
  "kernelspec": {
   "display_name": "Python 3 (ipykernel)",
   "language": "python",
   "name": "python3"
  },
  "language_info": {
   "codemirror_mode": {
    "name": "ipython",
    "version": 3
   },
   "file_extension": ".py",
   "mimetype": "text/x-python",
   "name": "python",
   "nbconvert_exporter": "python",
   "pygments_lexer": "ipython3",
   "version": "3.9.16"
  },
  "toc-autonumbering": true,
  "toc-showmarkdowntxt": true
 },
 "nbformat": 4,
 "nbformat_minor": 5
}
